{
 "cells": [
  {
   "cell_type": "markdown",
   "metadata": {},
   "source": [
    "# Modelo Probabilístico de Previsão de Infarto Cardíaco via Processos Gaussianos"
   ]
  },
  {
   "cell_type": "markdown",
   "metadata": {},
   "source": [
    "## Importando bibliotecas"
   ]
  },
  {
   "cell_type": "code",
   "execution_count": 36,
   "metadata": {},
   "outputs": [
    {
     "data": {
      "text/html": [
       "        <script type=\"text/javascript\">\n",
       "        window.PlotlyConfig = {MathJaxConfig: 'local'};\n",
       "        if (window.MathJax && window.MathJax.Hub && window.MathJax.Hub.Config) {window.MathJax.Hub.Config({SVG: {font: \"STIX-Web\"}});}\n",
       "        if (typeof require !== 'undefined') {\n",
       "        require.undef(\"plotly\");\n",
       "        requirejs.config({\n",
       "            paths: {\n",
       "                'plotly': ['https://cdn.plot.ly/plotly-2.25.2.min']\n",
       "            }\n",
       "        });\n",
       "        require(['plotly'], function(Plotly) {\n",
       "            window._Plotly = Plotly;\n",
       "        });\n",
       "        }\n",
       "        </script>\n",
       "        "
      ]
     },
     "metadata": {},
     "output_type": "display_data"
    },
    {
     "data": {
      "text/html": [
       "        <script type=\"text/javascript\">\n",
       "        window.PlotlyConfig = {MathJaxConfig: 'local'};\n",
       "        if (window.MathJax && window.MathJax.Hub && window.MathJax.Hub.Config) {window.MathJax.Hub.Config({SVG: {font: \"STIX-Web\"}});}\n",
       "        if (typeof require !== 'undefined') {\n",
       "        require.undef(\"plotly\");\n",
       "        requirejs.config({\n",
       "            paths: {\n",
       "                'plotly': ['https://cdn.plot.ly/plotly-2.25.2.min']\n",
       "            }\n",
       "        });\n",
       "        require(['plotly'], function(Plotly) {\n",
       "            window._Plotly = Plotly;\n",
       "        });\n",
       "        }\n",
       "        </script>\n",
       "        "
      ]
     },
     "metadata": {},
     "output_type": "display_data"
    }
   ],
   "source": [
    "import numpy as np\n",
    "import pandas as pd\n",
    "import plotly.express as px\n",
    "import plotly.graph_objects as go\n",
    "import plotly.io as pio\n",
    "import plotly.offline as pyo\n",
    "import cufflinks as cf\n",
    "from plotly.offline import download_plotlyjs, init_notebook_mode, plot, iplot_mpl\n",
    "init_notebook_mode(connected=True)\n",
    "cf.go_offline()\n",
    "from IPython.display import display, HTML\n",
    "from sklearn.model_selection import train_test_split\n",
    "from sklearn.preprocessing import StandardScaler\n",
    "from sklearn.metrics import accuracy_score, classification_report, confusion_matrix\n",
    "from sklearn.model_selection import KFold, GridSearchCV\n",
    "import matplotlib.pyplot as plt\n",
    "import numpy as np\n",
    "from sklearn.gaussian_process import GaussianProcessClassifier\n",
    "from sklearn.model_selection import train_test_split, cross_val_score\n",
    "from sklearn.gaussian_process.kernels import RBF, Matern, RationalQuadratic, DotProduct, PairwiseKernel\n",
    "import matplotlib.gridspec as gridspec\n",
    "from sklearn.preprocessing import StandardScaler\n",
    "import seaborn as sns\n",
    "import warnings\n",
    "from sklearn.exceptions import ConvergenceWarning\n",
    "warnings.filterwarnings(\"ignore\")"
   ]
  },
  {
   "cell_type": "markdown",
   "metadata": {},
   "source": [
    "## Visualizando dados"
   ]
  },
  {
   "cell_type": "code",
   "execution_count": 37,
   "metadata": {},
   "outputs": [
    {
     "data": {
      "text/html": [
       "<div>\n",
       "<style scoped>\n",
       "    .dataframe tbody tr th:only-of-type {\n",
       "        vertical-align: middle;\n",
       "    }\n",
       "\n",
       "    .dataframe tbody tr th {\n",
       "        vertical-align: top;\n",
       "    }\n",
       "\n",
       "    .dataframe thead th {\n",
       "        text-align: right;\n",
       "    }\n",
       "</style>\n",
       "<table border=\"1\" class=\"dataframe\">\n",
       "  <thead>\n",
       "    <tr style=\"text-align: right;\">\n",
       "      <th></th>\n",
       "      <th>Colesterol Total</th>\n",
       "      <th>Idade</th>\n",
       "      <th>Glicemia</th>\n",
       "      <th>Desfecho</th>\n",
       "      <th>Unnamed: 4</th>\n",
       "    </tr>\n",
       "  </thead>\n",
       "  <tbody>\n",
       "    <tr>\n",
       "      <th>0</th>\n",
       "      <td>254</td>\n",
       "      <td>38</td>\n",
       "      <td>93</td>\n",
       "      <td>1</td>\n",
       "      <td>NaN</td>\n",
       "    </tr>\n",
       "    <tr>\n",
       "      <th>1</th>\n",
       "      <td>222</td>\n",
       "      <td>79</td>\n",
       "      <td>89</td>\n",
       "      <td>-1</td>\n",
       "      <td>NaN</td>\n",
       "    </tr>\n",
       "    <tr>\n",
       "      <th>2</th>\n",
       "      <td>236</td>\n",
       "      <td>64</td>\n",
       "      <td>102</td>\n",
       "      <td>-1</td>\n",
       "      <td>NaN</td>\n",
       "    </tr>\n",
       "    <tr>\n",
       "      <th>3</th>\n",
       "      <td>241</td>\n",
       "      <td>50</td>\n",
       "      <td>123</td>\n",
       "      <td>-1</td>\n",
       "      <td>NaN</td>\n",
       "    </tr>\n",
       "    <tr>\n",
       "      <th>4</th>\n",
       "      <td>167</td>\n",
       "      <td>34</td>\n",
       "      <td>82</td>\n",
       "      <td>-1</td>\n",
       "      <td>NaN</td>\n",
       "    </tr>\n",
       "  </tbody>\n",
       "</table>\n",
       "</div>"
      ],
      "text/plain": [
       "   Colesterol Total  Idade  Glicemia  Desfecho  Unnamed: 4\n",
       "0               254     38        93         1         NaN\n",
       "1               222     79        89        -1         NaN\n",
       "2               236     64       102        -1         NaN\n",
       "3               241     50       123        -1         NaN\n",
       "4               167     34        82        -1         NaN"
      ]
     },
     "execution_count": 37,
     "metadata": {},
     "output_type": "execute_result"
    }
   ],
   "source": [
    "df = pd.read_csv('./dataset_ic2023.csv', sep = \";\")\n",
    "df.head()"
   ]
  },
  {
   "cell_type": "code",
   "execution_count": 38,
   "metadata": {},
   "outputs": [
    {
     "data": {
      "text/plain": [
       "(799, 5)"
      ]
     },
     "execution_count": 38,
     "metadata": {},
     "output_type": "execute_result"
    }
   ],
   "source": [
    "df.shape"
   ]
  },
  {
   "cell_type": "code",
   "execution_count": 39,
   "metadata": {},
   "outputs": [
    {
     "data": {
      "text/plain": [
       "Colesterol Total      0\n",
       "Idade                 0\n",
       "Glicemia              0\n",
       "Desfecho              0\n",
       "Unnamed: 4          799\n",
       "dtype: int64"
      ]
     },
     "execution_count": 39,
     "metadata": {},
     "output_type": "execute_result"
    }
   ],
   "source": [
    "df.isna().sum()"
   ]
  },
  {
   "cell_type": "code",
   "execution_count": 40,
   "metadata": {},
   "outputs": [
    {
     "data": {
      "text/html": [
       "<div>\n",
       "<style scoped>\n",
       "    .dataframe tbody tr th:only-of-type {\n",
       "        vertical-align: middle;\n",
       "    }\n",
       "\n",
       "    .dataframe tbody tr th {\n",
       "        vertical-align: top;\n",
       "    }\n",
       "\n",
       "    .dataframe thead th {\n",
       "        text-align: right;\n",
       "    }\n",
       "</style>\n",
       "<table border=\"1\" class=\"dataframe\">\n",
       "  <thead>\n",
       "    <tr style=\"text-align: right;\">\n",
       "      <th></th>\n",
       "      <th>Colesterol Total</th>\n",
       "      <th>Idade</th>\n",
       "      <th>Glicemia</th>\n",
       "      <th>Desfecho</th>\n",
       "    </tr>\n",
       "  </thead>\n",
       "  <tbody>\n",
       "    <tr>\n",
       "      <th>0</th>\n",
       "      <td>254</td>\n",
       "      <td>38</td>\n",
       "      <td>93</td>\n",
       "      <td>1</td>\n",
       "    </tr>\n",
       "    <tr>\n",
       "      <th>1</th>\n",
       "      <td>222</td>\n",
       "      <td>79</td>\n",
       "      <td>89</td>\n",
       "      <td>-1</td>\n",
       "    </tr>\n",
       "    <tr>\n",
       "      <th>2</th>\n",
       "      <td>236</td>\n",
       "      <td>64</td>\n",
       "      <td>102</td>\n",
       "      <td>-1</td>\n",
       "    </tr>\n",
       "    <tr>\n",
       "      <th>3</th>\n",
       "      <td>241</td>\n",
       "      <td>50</td>\n",
       "      <td>123</td>\n",
       "      <td>-1</td>\n",
       "    </tr>\n",
       "    <tr>\n",
       "      <th>4</th>\n",
       "      <td>167</td>\n",
       "      <td>34</td>\n",
       "      <td>82</td>\n",
       "      <td>-1</td>\n",
       "    </tr>\n",
       "  </tbody>\n",
       "</table>\n",
       "</div>"
      ],
      "text/plain": [
       "   Colesterol Total  Idade  Glicemia  Desfecho\n",
       "0               254     38        93         1\n",
       "1               222     79        89        -1\n",
       "2               236     64       102        -1\n",
       "3               241     50       123        -1\n",
       "4               167     34        82        -1"
      ]
     },
     "execution_count": 40,
     "metadata": {},
     "output_type": "execute_result"
    }
   ],
   "source": [
    "df = df.drop(df.columns[4], axis=1)\n",
    "df.head()"
   ]
  },
  {
   "cell_type": "code",
   "execution_count": 41,
   "metadata": {},
   "outputs": [
    {
     "data": {
      "text/plain": [
       "Colesterol Total    int64\n",
       "Idade               int64\n",
       "Glicemia            int64\n",
       "Desfecho            int64\n",
       "dtype: object"
      ]
     },
     "execution_count": 41,
     "metadata": {},
     "output_type": "execute_result"
    }
   ],
   "source": [
    "df.dtypes"
   ]
  },
  {
   "cell_type": "markdown",
   "metadata": {},
   "source": [
    "## Range dos dados"
   ]
  },
  {
   "cell_type": "code",
   "execution_count": 42,
   "metadata": {},
   "outputs": [
    {
     "name": "stdout",
     "output_type": "stream",
     "text": [
      "             column      range\n",
      "0  Colesterol Total  150 - 279\n",
      "1             Idade    10 - 86\n",
      "2          Glicemia   64 - 169\n",
      "3          Desfecho     -1 - 1\n"
     ]
    }
   ],
   "source": [
    "data_ranges = []\n",
    "for column in df.columns:\n",
    "    min_value = df[column].min()\n",
    "    max_value = df[column].max()\n",
    "    data_ranges.append([column, f\"{min_value} - {max_value}\"])\n",
    "\n",
    "ranges_df = pd.DataFrame(data_ranges, columns=['column', 'range'])\n",
    "print(ranges_df)"
   ]
  },
  {
   "cell_type": "markdown",
   "metadata": {},
   "source": [
    "## Boxplot das covaráveis"
   ]
  },
  {
   "cell_type": "code",
   "execution_count": 43,
   "metadata": {},
   "outputs": [
    {
     "data": {
      "application/vnd.plotly.v1+json": {
       "config": {
        "plotlyServerURL": "https://plot.ly"
       },
       "data": [
        {
         "name": "Colesterol Total",
         "type": "box",
         "y": [
          254,
          222,
          236,
          241,
          167,
          238,
          233,
          189,
          168,
          184,
          169,
          172,
          230,
          192,
          174,
          168,
          169,
          222,
          254,
          230,
          250,
          239,
          173,
          180,
          248,
          181,
          180,
          245,
          181,
          237,
          239,
          232,
          231,
          194,
          238,
          172,
          242,
          243,
          220,
          185,
          241,
          188,
          237,
          226,
          196,
          175,
          253,
          191,
          194,
          229,
          188,
          191,
          184,
          241,
          172,
          184,
          238,
          184,
          239,
          241,
          244,
          187,
          237,
          241,
          237,
          183,
          234,
          196,
          168,
          196,
          191,
          215,
          184,
          176,
          250,
          223,
          254,
          237,
          173,
          181,
          184,
          165,
          239,
          181,
          163,
          177,
          179,
          181,
          184,
          176,
          238,
          194,
          189,
          242,
          236,
          251,
          193,
          184,
          178,
          193,
          230,
          241,
          219,
          176,
          223,
          171,
          228,
          188,
          182,
          238,
          243,
          238,
          241,
          240,
          150,
          179,
          237,
          239,
          248,
          242,
          168,
          184,
          185,
          240,
          232,
          229,
          245,
          186,
          183,
          180,
          254,
          235,
          225,
          246,
          236,
          189,
          181,
          232,
          258,
          181,
          172,
          262,
          248,
          245,
          221,
          190,
          182,
          238,
          219,
          164,
          183,
          189,
          243,
          189,
          234,
          200,
          231,
          229,
          260,
          178,
          225,
          239,
          178,
          242,
          243,
          169,
          182,
          185,
          234,
          225,
          181,
          234,
          251,
          170,
          241,
          249,
          239,
          239,
          186,
          254,
          164,
          181,
          185,
          157,
          232,
          234,
          188,
          195,
          163,
          246,
          179,
          180,
          187,
          178,
          241,
          174,
          239,
          239,
          180,
          181,
          167,
          182,
          243,
          190,
          232,
          237,
          178,
          170,
          183,
          180,
          196,
          244,
          233,
          169,
          239,
          230,
          237,
          249,
          238,
          237,
          196,
          238,
          191,
          242,
          188,
          232,
          183,
          233,
          163,
          247,
          186,
          174,
          167,
          217,
          255,
          244,
          167,
          190,
          183,
          219,
          180,
          239,
          182,
          178,
          182,
          173,
          171,
          236,
          230,
          237,
          181,
          238,
          172,
          232,
          189,
          195,
          255,
          179,
          188,
          250,
          186,
          243,
          163,
          198,
          169,
          180,
          233,
          256,
          242,
          233,
          227,
          242,
          239,
          167,
          169,
          230,
          183,
          185,
          188,
          228,
          175,
          183,
          239,
          247,
          238,
          236,
          245,
          185,
          236,
          180,
          248,
          249,
          186,
          239,
          240,
          225,
          188,
          256,
          235,
          268,
          170,
          226,
          239,
          163,
          160,
          248,
          189,
          176,
          233,
          178,
          229,
          227,
          242,
          233,
          234,
          239,
          184,
          234,
          183,
          192,
          229,
          190,
          180,
          181,
          183,
          169,
          246,
          257,
          195,
          182,
          251,
          243,
          240,
          253,
          235,
          191,
          164,
          235,
          184,
          238,
          169,
          177,
          166,
          176,
          230,
          183,
          176,
          243,
          231,
          191,
          181,
          219,
          186,
          168,
          174,
          229,
          177,
          184,
          249,
          182,
          254,
          244,
          233,
          249,
          200,
          182,
          242,
          242,
          243,
          195,
          258,
          241,
          177,
          177,
          242,
          241,
          172,
          204,
          223,
          193,
          186,
          184,
          241,
          267,
          183,
          182,
          185,
          240,
          237,
          244,
          182,
          255,
          248,
          194,
          179,
          169,
          254,
          239,
          251,
          197,
          171,
          186,
          245,
          243,
          178,
          235,
          162,
          188,
          229,
          249,
          193,
          186,
          168,
          207,
          249,
          174,
          170,
          244,
          260,
          182,
          252,
          182,
          150,
          183,
          166,
          175,
          192,
          239,
          171,
          237,
          249,
          178,
          196,
          242,
          190,
          178,
          229,
          267,
          252,
          243,
          169,
          172,
          257,
          173,
          185,
          222,
          184,
          240,
          257,
          230,
          189,
          198,
          251,
          194,
          183,
          223,
          180,
          225,
          230,
          240,
          176,
          237,
          232,
          184,
          193,
          181,
          247,
          241,
          234,
          160,
          242,
          180,
          231,
          178,
          238,
          233,
          236,
          199,
          228,
          227,
          251,
          243,
          240,
          227,
          231,
          238,
          228,
          181,
          241,
          200,
          167,
          172,
          217,
          250,
          244,
          238,
          170,
          225,
          233,
          169,
          171,
          234,
          256,
          174,
          241,
          206,
          180,
          197,
          187,
          254,
          181,
          238,
          242,
          236,
          247,
          173,
          168,
          179,
          255,
          254,
          227,
          230,
          177,
          166,
          186,
          257,
          159,
          221,
          246,
          189,
          191,
          188,
          181,
          236,
          178,
          187,
          171,
          246,
          168,
          241,
          230,
          254,
          221,
          232,
          241,
          186,
          174,
          249,
          223,
          163,
          236,
          177,
          242,
          166,
          181,
          168,
          169,
          241,
          248,
          175,
          224,
          245,
          236,
          234,
          242,
          188,
          237,
          182,
          250,
          184,
          188,
          244,
          171,
          249,
          249,
          248,
          246,
          226,
          234,
          234,
          171,
          258,
          182,
          232,
          181,
          234,
          191,
          168,
          251,
          180,
          237,
          221,
          196,
          181,
          240,
          230,
          237,
          191,
          260,
          229,
          230,
          245,
          188,
          234,
          163,
          175,
          190,
          224,
          256,
          243,
          186,
          238,
          180,
          190,
          234,
          235,
          179,
          154,
          243,
          247,
          173,
          183,
          238,
          248,
          190,
          190,
          187,
          257,
          241,
          253,
          169,
          180,
          180,
          186,
          223,
          186,
          180,
          180,
          235,
          172,
          182,
          243,
          237,
          253,
          182,
          178,
          258,
          244,
          259,
          253,
          259,
          184,
          240,
          268,
          242,
          179,
          185,
          161,
          246,
          171,
          167,
          252,
          236,
          173,
          182,
          279,
          179,
          165,
          170,
          161,
          240,
          228,
          171,
          247,
          234,
          250,
          248,
          179,
          191,
          236,
          241,
          228,
          244,
          221,
          163,
          233,
          241,
          240,
          179,
          185,
          175,
          185,
          161,
          187,
          172,
          184,
          172,
          177,
          232,
          224,
          239,
          243,
          193,
          245,
          233,
          231,
          236,
          181,
          178,
          257,
          172,
          244,
          175,
          181,
          176,
          251,
          243,
          239,
          188,
          232,
          175,
          188,
          242,
          191,
          247,
          241,
          198,
          236,
          236,
          242,
          193,
          233,
          241,
          177,
          228,
          244,
          246,
          181,
          242,
          175,
          175,
          168,
          169,
          178,
          173,
          244,
          219,
          229,
          185,
          243,
          180,
          238,
          183,
          239,
          183,
          248,
          222,
          160,
          167,
          166,
          187,
          239,
          177,
          254,
          239,
          190,
          191,
          161,
          175,
          179,
          190,
          237,
          182,
          187,
          225,
          194,
          242,
          241,
          187,
          245,
          185,
          189,
          187,
          248,
          198,
          237,
          175,
          237,
          254,
          170,
          248,
          171,
          232,
          232,
          183,
          165,
          165,
          249,
          170
         ]
        },
        {
         "name": "Idade",
         "type": "box",
         "y": [
          38,
          79,
          64,
          50,
          34,
          48,
          35,
          20,
          34,
          59,
          68,
          79,
          63,
          23,
          74,
          10,
          53,
          54,
          20,
          27,
          27,
          56,
          22,
          50,
          71,
          59,
          29,
          33,
          41,
          70,
          61,
          22,
          24,
          41,
          42,
          82,
          70,
          28,
          10,
          70,
          81,
          66,
          72,
          27,
          33,
          67,
          12,
          31,
          62,
          33,
          40,
          49,
          72,
          27,
          10,
          83,
          34,
          40,
          65,
          19,
          51,
          51,
          21,
          28,
          24,
          12,
          63,
          54,
          49,
          22,
          51,
          77,
          65,
          45,
          76,
          70,
          31,
          20,
          36,
          26,
          15,
          63,
          71,
          50,
          29,
          64,
          77,
          67,
          63,
          68,
          43,
          27,
          55,
          25,
          16,
          53,
          67,
          40,
          52,
          24,
          10,
          41,
          63,
          62,
          33,
          72,
          61,
          58,
          71,
          41,
          58,
          64,
          30,
          47,
          40,
          50,
          71,
          60,
          48,
          43,
          31,
          50,
          35,
          60,
          40,
          39,
          37,
          42,
          60,
          61,
          26,
          26,
          16,
          61,
          64,
          38,
          31,
          59,
          38,
          31,
          50,
          52,
          47,
          69,
          28,
          53,
          42,
          30,
          63,
          21,
          70,
          53,
          46,
          83,
          14,
          17,
          62,
          49,
          63,
          51,
          13,
          25,
          69,
          35,
          28,
          10,
          56,
          33,
          27,
          25,
          22,
          62,
          58,
          49,
          32,
          57,
          53,
          56,
          58,
          61,
          43,
          25,
          32,
          28,
          51,
          58,
          18,
          30,
          56,
          16,
          28,
          43,
          28,
          36,
          60,
          83,
          41,
          70,
          31,
          44,
          44,
          38,
          55,
          55,
          70,
          59,
          32,
          61,
          60,
          49,
          21,
          44,
          43,
          63,
          27,
          46,
          47,
          71,
          71,
          24,
          55,
          52,
          13,
          30,
          46,
          23,
          33,
          50,
          21,
          44,
          59,
          62,
          39,
          56,
          50,
          58,
          65,
          26,
          42,
          10,
          51,
          40,
          44,
          34,
          23,
          58,
          52,
          55,
          60,
          31,
          63,
          31,
          30,
          59,
          57,
          41,
          30,
          31,
          31,
          75,
          81,
          19,
          40,
          45,
          43,
          16,
          73,
          52,
          39,
          57,
          70,
          34,
          21,
          68,
          65,
          41,
          27,
          67,
          63,
          34,
          43,
          69,
          40,
          49,
          44,
          86,
          62,
          33,
          47,
          10,
          47,
          53,
          10,
          27,
          60,
          63,
          26,
          69,
          63,
          53,
          43,
          18,
          41,
          25,
          38,
          15,
          41,
          53,
          18,
          36,
          44,
          53,
          65,
          58,
          62,
          68,
          61,
          75,
          64,
          28,
          25,
          30,
          71,
          32,
          23,
          36,
          47,
          72,
          31,
          27,
          81,
          42,
          34,
          67,
          71,
          28,
          32,
          28,
          66,
          61,
          33,
          67,
          26,
          28,
          25,
          29,
          43,
          28,
          60,
          58,
          33,
          33,
          57,
          69,
          65,
          48,
          64,
          28,
          78,
          21,
          54,
          29,
          20,
          24,
          85,
          21,
          52,
          67,
          76,
          10,
          39,
          69,
          68,
          62,
          37,
          27,
          26,
          28,
          47,
          28,
          61,
          50,
          25,
          30,
          59,
          28,
          18,
          24,
          53,
          25,
          49,
          23,
          75,
          51,
          59,
          38,
          68,
          13,
          26,
          56,
          55,
          49,
          18,
          65,
          15,
          27,
          25,
          58,
          62,
          71,
          10,
          55,
          34,
          64,
          30,
          28,
          65,
          10,
          54,
          35,
          75,
          61,
          63,
          19,
          37,
          61,
          52,
          81,
          16,
          31,
          15,
          67,
          76,
          17,
          54,
          55,
          28,
          67,
          82,
          17,
          37,
          37,
          10,
          55,
          29,
          70,
          36,
          85,
          54,
          65,
          26,
          75,
          46,
          26,
          49,
          29,
          60,
          43,
          37,
          71,
          48,
          56,
          74,
          35,
          16,
          30,
          47,
          41,
          78,
          26,
          51,
          16,
          60,
          66,
          38,
          33,
          58,
          66,
          78,
          58,
          44,
          56,
          46,
          46,
          61,
          80,
          29,
          63,
          38,
          52,
          32,
          51,
          57,
          44,
          74,
          56,
          52,
          48,
          78,
          76,
          58,
          64,
          64,
          13,
          65,
          31,
          54,
          14,
          54,
          10,
          14,
          69,
          53,
          25,
          53,
          26,
          25,
          36,
          51,
          15,
          28,
          35,
          32,
          58,
          35,
          27,
          37,
          70,
          74,
          58,
          22,
          32,
          27,
          31,
          24,
          56,
          10,
          25,
          31,
          49,
          21,
          80,
          49,
          44,
          67,
          34,
          22,
          30,
          37,
          24,
          35,
          62,
          46,
          25,
          52,
          33,
          41,
          47,
          12,
          69,
          52,
          56,
          37,
          76,
          33,
          41,
          53,
          65,
          45,
          21,
          47,
          79,
          62,
          55,
          64,
          51,
          27,
          65,
          46,
          16,
          63,
          30,
          54,
          37,
          36,
          62,
          60,
          73,
          13,
          22,
          62,
          21,
          43,
          61,
          29,
          69,
          43,
          59,
          43,
          41,
          54,
          27,
          63,
          41,
          77,
          70,
          21,
          29,
          67,
          40,
          60,
          18,
          25,
          23,
          34,
          69,
          25,
          37,
          33,
          53,
          41,
          21,
          30,
          58,
          31,
          54,
          84,
          40,
          55,
          53,
          42,
          25,
          30,
          47,
          71,
          57,
          69,
          56,
          66,
          10,
          66,
          63,
          38,
          80,
          39,
          13,
          34,
          60,
          63,
          51,
          28,
          84,
          27,
          64,
          60,
          66,
          82,
          57,
          82,
          79,
          56,
          13,
          44,
          26,
          33,
          27,
          38,
          73,
          32,
          72,
          59,
          77,
          49,
          25,
          64,
          30,
          36,
          24,
          66,
          36,
          76,
          45,
          23,
          55,
          31,
          39,
          76,
          31,
          62,
          43,
          37,
          71,
          30,
          63,
          37,
          67,
          40,
          61,
          34,
          45,
          14,
          75,
          20,
          54,
          60,
          28,
          68,
          65,
          40,
          25,
          27,
          60,
          53,
          58,
          63,
          29,
          41,
          51,
          72,
          57,
          44,
          37,
          65,
          29,
          70,
          28,
          62,
          32,
          19,
          60,
          15,
          64,
          21,
          19,
          23,
          64,
          45,
          76,
          56,
          57,
          60,
          51,
          31,
          34,
          14,
          38,
          34,
          19,
          20,
          52,
          38,
          63,
          27,
          46,
          53,
          23,
          48,
          17,
          53,
          46,
          36,
          53,
          46,
          48,
          23,
          30,
          52,
          51,
          18,
          26,
          20,
          64,
          25,
          34,
          74,
          64,
          32,
          67,
          24,
          65,
          40,
          62,
          60,
          24,
          63,
          43,
          44,
          27,
          24,
          64,
          41,
          10,
          69,
          60,
          30,
          68,
          58,
          66,
          54
         ]
        },
        {
         "name": "Glicemia",
         "type": "box",
         "y": [
          93,
          89,
          102,
          123,
          82,
          90,
          129,
          133,
          88,
          133,
          116,
          94,
          93,
          151,
          136,
          131,
          145,
          138,
          130,
          137,
          84,
          104,
          84,
          130,
          85,
          130,
          105,
          79,
          87,
          124,
          141,
          138,
          135,
          77,
          135,
          147,
          84,
          134,
          128,
          89,
          94,
          142,
          91,
          83,
          84,
          141,
          129,
          95,
          146,
          77,
          77,
          91,
          141,
          146,
          145,
          152,
          138,
          90,
          145,
          70,
          136,
          151,
          83,
          132,
          82,
          129,
          140,
          128,
          142,
          157,
          139,
          152,
          133,
          129,
          130,
          151,
          145,
          97,
          103,
          142,
          128,
          87,
          130,
          86,
          148,
          85,
          137,
          136,
          144,
          146,
          155,
          89,
          75,
          111,
          96,
          129,
          81,
          84,
          92,
          141,
          147,
          89,
          123,
          141,
          141,
          151,
          105,
          130,
          142,
          131,
          97,
          83,
          76,
          84,
          95,
          84,
          82,
          94,
          115,
          70,
          145,
          104,
          143,
          142,
          145,
          141,
          129,
          64,
          139,
          88,
          104,
          74,
          98,
          80,
          141,
          127,
          88,
          100,
          95,
          157,
          81,
          157,
          98,
          124,
          126,
          145,
          95,
          94,
          129,
          134,
          90,
          91,
          150,
          71,
          155,
          85,
          82,
          89,
          130,
          135,
          130,
          148,
          104,
          139,
          140,
          86,
          144,
          151,
          150,
          120,
          77,
          137,
          148,
          119,
          98,
          147,
          95,
          81,
          141,
          98,
          87,
          106,
          78,
          88,
          125,
          143,
          137,
          146,
          92,
          67,
          86,
          136,
          95,
          118,
          98,
          99,
          106,
          94,
          91,
          70,
          111,
          80,
          141,
          144,
          138,
          92,
          101,
          141,
          86,
          148,
          154,
          151,
          142,
          89,
          130,
          124,
          136,
          135,
          97,
          148,
          101,
          146,
          89,
          87,
          95,
          146,
          155,
          125,
          153,
          94,
          143,
          142,
          138,
          75,
          145,
          83,
          135,
          82,
          91,
          72,
          92,
          104,
          103,
          85,
          83,
          156,
          90,
          83,
          94,
          154,
          122,
          133,
          99,
          99,
          87,
          140,
          147,
          88,
          80,
          96,
          139,
          80,
          87,
          162,
          132,
          82,
          66,
          95,
          111,
          144,
          102,
          136,
          141,
          80,
          85,
          80,
          142,
          92,
          132,
          132,
          153,
          105,
          78,
          89,
          96,
          142,
          108,
          84,
          145,
          131,
          129,
          86,
          84,
          149,
          146,
          97,
          96,
          94,
          78,
          140,
          95,
          149,
          88,
          98,
          94,
          91,
          99,
          152,
          150,
          96,
          161,
          66,
          84,
          146,
          97,
          133,
          88,
          154,
          125,
          135,
          91,
          76,
          90,
          78,
          156,
          128,
          81,
          155,
          146,
          161,
          98,
          97,
          132,
          140,
          108,
          149,
          73,
          86,
          143,
          87,
          85,
          88,
          151,
          89,
          79,
          109,
          94,
          103,
          135,
          140,
          150,
          105,
          102,
          142,
          132,
          86,
          143,
          86,
          87,
          147,
          139,
          130,
          125,
          96,
          135,
          150,
          158,
          80,
          124,
          102,
          87,
          134,
          161,
          89,
          99,
          94,
          76,
          93,
          125,
          145,
          134,
          97,
          156,
          141,
          138,
          89,
          142,
          142,
          104,
          132,
          93,
          97,
          80,
          88,
          108,
          99,
          94,
          109,
          73,
          142,
          100,
          139,
          150,
          99,
          141,
          86,
          138,
          90,
          168,
          85,
          82,
          148,
          89,
          80,
          87,
          140,
          150,
          103,
          92,
          97,
          87,
          72,
          151,
          86,
          146,
          83,
          77,
          100,
          73,
          92,
          94,
          108,
          136,
          102,
          160,
          132,
          156,
          124,
          101,
          101,
          89,
          114,
          86,
          97,
          164,
          121,
          140,
          92,
          128,
          105,
          130,
          117,
          126,
          142,
          168,
          96,
          88,
          90,
          146,
          89,
          79,
          80,
          89,
          133,
          100,
          91,
          84,
          162,
          148,
          76,
          129,
          97,
          85,
          141,
          130,
          159,
          92,
          146,
          143,
          93,
          97,
          153,
          139,
          145,
          90,
          86,
          162,
          141,
          102,
          131,
          130,
          145,
          99,
          135,
          96,
          137,
          86,
          87,
          138,
          85,
          154,
          155,
          81,
          95,
          84,
          143,
          143,
          103,
          88,
          85,
          94,
          103,
          159,
          134,
          140,
          83,
          86,
          127,
          90,
          127,
          133,
          112,
          90,
          132,
          169,
          84,
          81,
          81,
          163,
          72,
          82,
          87,
          96,
          142,
          137,
          85,
          155,
          75,
          78,
          151,
          86,
          160,
          77,
          84,
          91,
          141,
          97,
          128,
          80,
          91,
          77,
          137,
          143,
          96,
          68,
          87,
          157,
          71,
          161,
          134,
          138,
          100,
          94,
          128,
          89,
          106,
          93,
          98,
          135,
          167,
          75,
          145,
          88,
          137,
          124,
          82,
          143,
          141,
          90,
          96,
          129,
          141,
          153,
          154,
          121,
          138,
          146,
          149,
          89,
          130,
          89,
          67,
          101,
          103,
          79,
          90,
          93,
          94,
          132,
          148,
          96,
          139,
          81,
          131,
          142,
          139,
          83,
          139,
          147,
          132,
          143,
          81,
          127,
          78,
          121,
          76,
          128,
          90,
          101,
          138,
          156,
          83,
          127,
          86,
          100,
          150,
          95,
          91,
          136,
          103,
          151,
          88,
          81,
          91,
          102,
          90,
          73,
          143,
          132,
          133,
          145,
          133,
          91,
          129,
          95,
          156,
          96,
          146,
          128,
          137,
          137,
          133,
          78,
          145,
          124,
          79,
          131,
          140,
          91,
          150,
          141,
          152,
          147,
          85,
          101,
          85,
          100,
          84,
          88,
          157,
          83,
          146,
          80,
          86,
          83,
          136,
          84,
          138,
          136,
          84,
          158,
          98,
          84,
          133,
          143,
          141,
          78,
          138,
          98,
          102,
          102,
          156,
          74,
          102,
          136,
          97,
          147,
          132,
          88,
          100,
          109,
          156,
          92,
          92,
          94,
          89,
          136,
          126,
          96,
          89,
          126,
          127,
          70,
          99,
          139,
          142,
          143,
          141,
          157,
          132,
          68,
          89,
          103,
          95,
          147,
          136,
          96,
          128,
          129,
          137,
          142,
          92,
          100,
          135,
          69,
          145,
          90,
          128,
          88,
          80,
          135,
          144,
          135,
          139,
          130,
          155,
          147,
          133,
          82,
          87,
          137,
          154,
          83,
          151,
          94,
          89,
          87,
          153,
          152,
          163,
          129,
          96,
          124,
          96,
          140,
          138,
          141,
          147,
          83,
          89,
          95,
          135,
          94,
          134,
          138,
          133,
          123,
          129,
          96,
          152,
          149,
          148,
          89,
          89,
          94,
          152,
          150,
          148,
          99,
          95,
          91,
          137,
          94,
          121,
          103,
          95,
          145,
          96,
          140
         ]
        }
       ],
       "layout": {
        "height": 600,
        "legend": {
         "font": {
          "size": 16
         },
         "orientation": "h",
         "x": 0.08,
         "y": 1.1
        },
        "template": {
         "data": {
          "bar": [
           {
            "error_x": {
             "color": "#2a3f5f"
            },
            "error_y": {
             "color": "#2a3f5f"
            },
            "marker": {
             "line": {
              "color": "#E5ECF6",
              "width": 0.5
             },
             "pattern": {
              "fillmode": "overlay",
              "size": 10,
              "solidity": 0.2
             }
            },
            "type": "bar"
           }
          ],
          "barpolar": [
           {
            "marker": {
             "line": {
              "color": "#E5ECF6",
              "width": 0.5
             },
             "pattern": {
              "fillmode": "overlay",
              "size": 10,
              "solidity": 0.2
             }
            },
            "type": "barpolar"
           }
          ],
          "carpet": [
           {
            "aaxis": {
             "endlinecolor": "#2a3f5f",
             "gridcolor": "white",
             "linecolor": "white",
             "minorgridcolor": "white",
             "startlinecolor": "#2a3f5f"
            },
            "baxis": {
             "endlinecolor": "#2a3f5f",
             "gridcolor": "white",
             "linecolor": "white",
             "minorgridcolor": "white",
             "startlinecolor": "#2a3f5f"
            },
            "type": "carpet"
           }
          ],
          "choropleth": [
           {
            "colorbar": {
             "outlinewidth": 0,
             "ticks": ""
            },
            "type": "choropleth"
           }
          ],
          "contour": [
           {
            "colorbar": {
             "outlinewidth": 0,
             "ticks": ""
            },
            "colorscale": [
             [
              0,
              "#0d0887"
             ],
             [
              0.1111111111111111,
              "#46039f"
             ],
             [
              0.2222222222222222,
              "#7201a8"
             ],
             [
              0.3333333333333333,
              "#9c179e"
             ],
             [
              0.4444444444444444,
              "#bd3786"
             ],
             [
              0.5555555555555556,
              "#d8576b"
             ],
             [
              0.6666666666666666,
              "#ed7953"
             ],
             [
              0.7777777777777778,
              "#fb9f3a"
             ],
             [
              0.8888888888888888,
              "#fdca26"
             ],
             [
              1,
              "#f0f921"
             ]
            ],
            "type": "contour"
           }
          ],
          "contourcarpet": [
           {
            "colorbar": {
             "outlinewidth": 0,
             "ticks": ""
            },
            "type": "contourcarpet"
           }
          ],
          "heatmap": [
           {
            "colorbar": {
             "outlinewidth": 0,
             "ticks": ""
            },
            "colorscale": [
             [
              0,
              "#0d0887"
             ],
             [
              0.1111111111111111,
              "#46039f"
             ],
             [
              0.2222222222222222,
              "#7201a8"
             ],
             [
              0.3333333333333333,
              "#9c179e"
             ],
             [
              0.4444444444444444,
              "#bd3786"
             ],
             [
              0.5555555555555556,
              "#d8576b"
             ],
             [
              0.6666666666666666,
              "#ed7953"
             ],
             [
              0.7777777777777778,
              "#fb9f3a"
             ],
             [
              0.8888888888888888,
              "#fdca26"
             ],
             [
              1,
              "#f0f921"
             ]
            ],
            "type": "heatmap"
           }
          ],
          "heatmapgl": [
           {
            "colorbar": {
             "outlinewidth": 0,
             "ticks": ""
            },
            "colorscale": [
             [
              0,
              "#0d0887"
             ],
             [
              0.1111111111111111,
              "#46039f"
             ],
             [
              0.2222222222222222,
              "#7201a8"
             ],
             [
              0.3333333333333333,
              "#9c179e"
             ],
             [
              0.4444444444444444,
              "#bd3786"
             ],
             [
              0.5555555555555556,
              "#d8576b"
             ],
             [
              0.6666666666666666,
              "#ed7953"
             ],
             [
              0.7777777777777778,
              "#fb9f3a"
             ],
             [
              0.8888888888888888,
              "#fdca26"
             ],
             [
              1,
              "#f0f921"
             ]
            ],
            "type": "heatmapgl"
           }
          ],
          "histogram": [
           {
            "marker": {
             "pattern": {
              "fillmode": "overlay",
              "size": 10,
              "solidity": 0.2
             }
            },
            "type": "histogram"
           }
          ],
          "histogram2d": [
           {
            "colorbar": {
             "outlinewidth": 0,
             "ticks": ""
            },
            "colorscale": [
             [
              0,
              "#0d0887"
             ],
             [
              0.1111111111111111,
              "#46039f"
             ],
             [
              0.2222222222222222,
              "#7201a8"
             ],
             [
              0.3333333333333333,
              "#9c179e"
             ],
             [
              0.4444444444444444,
              "#bd3786"
             ],
             [
              0.5555555555555556,
              "#d8576b"
             ],
             [
              0.6666666666666666,
              "#ed7953"
             ],
             [
              0.7777777777777778,
              "#fb9f3a"
             ],
             [
              0.8888888888888888,
              "#fdca26"
             ],
             [
              1,
              "#f0f921"
             ]
            ],
            "type": "histogram2d"
           }
          ],
          "histogram2dcontour": [
           {
            "colorbar": {
             "outlinewidth": 0,
             "ticks": ""
            },
            "colorscale": [
             [
              0,
              "#0d0887"
             ],
             [
              0.1111111111111111,
              "#46039f"
             ],
             [
              0.2222222222222222,
              "#7201a8"
             ],
             [
              0.3333333333333333,
              "#9c179e"
             ],
             [
              0.4444444444444444,
              "#bd3786"
             ],
             [
              0.5555555555555556,
              "#d8576b"
             ],
             [
              0.6666666666666666,
              "#ed7953"
             ],
             [
              0.7777777777777778,
              "#fb9f3a"
             ],
             [
              0.8888888888888888,
              "#fdca26"
             ],
             [
              1,
              "#f0f921"
             ]
            ],
            "type": "histogram2dcontour"
           }
          ],
          "mesh3d": [
           {
            "colorbar": {
             "outlinewidth": 0,
             "ticks": ""
            },
            "type": "mesh3d"
           }
          ],
          "parcoords": [
           {
            "line": {
             "colorbar": {
              "outlinewidth": 0,
              "ticks": ""
             }
            },
            "type": "parcoords"
           }
          ],
          "pie": [
           {
            "automargin": true,
            "type": "pie"
           }
          ],
          "scatter": [
           {
            "fillpattern": {
             "fillmode": "overlay",
             "size": 10,
             "solidity": 0.2
            },
            "type": "scatter"
           }
          ],
          "scatter3d": [
           {
            "line": {
             "colorbar": {
              "outlinewidth": 0,
              "ticks": ""
             }
            },
            "marker": {
             "colorbar": {
              "outlinewidth": 0,
              "ticks": ""
             }
            },
            "type": "scatter3d"
           }
          ],
          "scattercarpet": [
           {
            "marker": {
             "colorbar": {
              "outlinewidth": 0,
              "ticks": ""
             }
            },
            "type": "scattercarpet"
           }
          ],
          "scattergeo": [
           {
            "marker": {
             "colorbar": {
              "outlinewidth": 0,
              "ticks": ""
             }
            },
            "type": "scattergeo"
           }
          ],
          "scattergl": [
           {
            "marker": {
             "colorbar": {
              "outlinewidth": 0,
              "ticks": ""
             }
            },
            "type": "scattergl"
           }
          ],
          "scattermapbox": [
           {
            "marker": {
             "colorbar": {
              "outlinewidth": 0,
              "ticks": ""
             }
            },
            "type": "scattermapbox"
           }
          ],
          "scatterpolar": [
           {
            "marker": {
             "colorbar": {
              "outlinewidth": 0,
              "ticks": ""
             }
            },
            "type": "scatterpolar"
           }
          ],
          "scatterpolargl": [
           {
            "marker": {
             "colorbar": {
              "outlinewidth": 0,
              "ticks": ""
             }
            },
            "type": "scatterpolargl"
           }
          ],
          "scatterternary": [
           {
            "marker": {
             "colorbar": {
              "outlinewidth": 0,
              "ticks": ""
             }
            },
            "type": "scatterternary"
           }
          ],
          "surface": [
           {
            "colorbar": {
             "outlinewidth": 0,
             "ticks": ""
            },
            "colorscale": [
             [
              0,
              "#0d0887"
             ],
             [
              0.1111111111111111,
              "#46039f"
             ],
             [
              0.2222222222222222,
              "#7201a8"
             ],
             [
              0.3333333333333333,
              "#9c179e"
             ],
             [
              0.4444444444444444,
              "#bd3786"
             ],
             [
              0.5555555555555556,
              "#d8576b"
             ],
             [
              0.6666666666666666,
              "#ed7953"
             ],
             [
              0.7777777777777778,
              "#fb9f3a"
             ],
             [
              0.8888888888888888,
              "#fdca26"
             ],
             [
              1,
              "#f0f921"
             ]
            ],
            "type": "surface"
           }
          ],
          "table": [
           {
            "cells": {
             "fill": {
              "color": "#EBF0F8"
             },
             "line": {
              "color": "white"
             }
            },
            "header": {
             "fill": {
              "color": "#C8D4E3"
             },
             "line": {
              "color": "white"
             }
            },
            "type": "table"
           }
          ]
         },
         "layout": {
          "annotationdefaults": {
           "arrowcolor": "#2a3f5f",
           "arrowhead": 0,
           "arrowwidth": 1
          },
          "autotypenumbers": "strict",
          "coloraxis": {
           "colorbar": {
            "outlinewidth": 0,
            "ticks": ""
           }
          },
          "colorscale": {
           "diverging": [
            [
             0,
             "#8e0152"
            ],
            [
             0.1,
             "#c51b7d"
            ],
            [
             0.2,
             "#de77ae"
            ],
            [
             0.3,
             "#f1b6da"
            ],
            [
             0.4,
             "#fde0ef"
            ],
            [
             0.5,
             "#f7f7f7"
            ],
            [
             0.6,
             "#e6f5d0"
            ],
            [
             0.7,
             "#b8e186"
            ],
            [
             0.8,
             "#7fbc41"
            ],
            [
             0.9,
             "#4d9221"
            ],
            [
             1,
             "#276419"
            ]
           ],
           "sequential": [
            [
             0,
             "#0d0887"
            ],
            [
             0.1111111111111111,
             "#46039f"
            ],
            [
             0.2222222222222222,
             "#7201a8"
            ],
            [
             0.3333333333333333,
             "#9c179e"
            ],
            [
             0.4444444444444444,
             "#bd3786"
            ],
            [
             0.5555555555555556,
             "#d8576b"
            ],
            [
             0.6666666666666666,
             "#ed7953"
            ],
            [
             0.7777777777777778,
             "#fb9f3a"
            ],
            [
             0.8888888888888888,
             "#fdca26"
            ],
            [
             1,
             "#f0f921"
            ]
           ],
           "sequentialminus": [
            [
             0,
             "#0d0887"
            ],
            [
             0.1111111111111111,
             "#46039f"
            ],
            [
             0.2222222222222222,
             "#7201a8"
            ],
            [
             0.3333333333333333,
             "#9c179e"
            ],
            [
             0.4444444444444444,
             "#bd3786"
            ],
            [
             0.5555555555555556,
             "#d8576b"
            ],
            [
             0.6666666666666666,
             "#ed7953"
            ],
            [
             0.7777777777777778,
             "#fb9f3a"
            ],
            [
             0.8888888888888888,
             "#fdca26"
            ],
            [
             1,
             "#f0f921"
            ]
           ]
          },
          "colorway": [
           "#636efa",
           "#EF553B",
           "#00cc96",
           "#ab63fa",
           "#FFA15A",
           "#19d3f3",
           "#FF6692",
           "#B6E880",
           "#FF97FF",
           "#FECB52"
          ],
          "font": {
           "color": "#2a3f5f"
          },
          "geo": {
           "bgcolor": "white",
           "lakecolor": "white",
           "landcolor": "#E5ECF6",
           "showlakes": true,
           "showland": true,
           "subunitcolor": "white"
          },
          "hoverlabel": {
           "align": "left"
          },
          "hovermode": "closest",
          "mapbox": {
           "style": "light"
          },
          "paper_bgcolor": "white",
          "plot_bgcolor": "#E5ECF6",
          "polar": {
           "angularaxis": {
            "gridcolor": "white",
            "linecolor": "white",
            "ticks": ""
           },
           "bgcolor": "#E5ECF6",
           "radialaxis": {
            "gridcolor": "white",
            "linecolor": "white",
            "ticks": ""
           }
          },
          "scene": {
           "xaxis": {
            "backgroundcolor": "#E5ECF6",
            "gridcolor": "white",
            "gridwidth": 2,
            "linecolor": "white",
            "showbackground": true,
            "ticks": "",
            "zerolinecolor": "white"
           },
           "yaxis": {
            "backgroundcolor": "#E5ECF6",
            "gridcolor": "white",
            "gridwidth": 2,
            "linecolor": "white",
            "showbackground": true,
            "ticks": "",
            "zerolinecolor": "white"
           },
           "zaxis": {
            "backgroundcolor": "#E5ECF6",
            "gridcolor": "white",
            "gridwidth": 2,
            "linecolor": "white",
            "showbackground": true,
            "ticks": "",
            "zerolinecolor": "white"
           }
          },
          "shapedefaults": {
           "line": {
            "color": "#2a3f5f"
           }
          },
          "ternary": {
           "aaxis": {
            "gridcolor": "white",
            "linecolor": "white",
            "ticks": ""
           },
           "baxis": {
            "gridcolor": "white",
            "linecolor": "white",
            "ticks": ""
           },
           "bgcolor": "#E5ECF6",
           "caxis": {
            "gridcolor": "white",
            "linecolor": "white",
            "ticks": ""
           }
          },
          "title": {
           "x": 0.05
          },
          "xaxis": {
           "automargin": true,
           "gridcolor": "white",
           "linecolor": "white",
           "ticks": "",
           "title": {
            "standoff": 15
           },
           "zerolinecolor": "white",
           "zerolinewidth": 2
          },
          "yaxis": {
           "automargin": true,
           "gridcolor": "white",
           "linecolor": "white",
           "ticks": "",
           "title": {
            "standoff": 15
           },
           "zerolinecolor": "white",
           "zerolinewidth": 2
          }
         }
        },
        "width": 600,
        "xaxis": {
         "tickfont": {
          "size": 16
         }
        },
        "yaxis": {
         "title": {
          "font": {
           "size": 16
          },
          "text": "Distribuição dos dados"
         }
        }
       }
      },
      "text/html": [
       "<div>                            <div id=\"604e0349-e547-4484-a721-d5ed5ce1d311\" class=\"plotly-graph-div\" style=\"height:600px; width:600px;\"></div>            <script type=\"text/javascript\">                require([\"plotly\"], function(Plotly) {                    window.PLOTLYENV=window.PLOTLYENV || {};                                    if (document.getElementById(\"604e0349-e547-4484-a721-d5ed5ce1d311\")) {                    Plotly.newPlot(                        \"604e0349-e547-4484-a721-d5ed5ce1d311\",                        [{\"name\":\"Colesterol Total\",\"y\":[254,222,236,241,167,238,233,189,168,184,169,172,230,192,174,168,169,222,254,230,250,239,173,180,248,181,180,245,181,237,239,232,231,194,238,172,242,243,220,185,241,188,237,226,196,175,253,191,194,229,188,191,184,241,172,184,238,184,239,241,244,187,237,241,237,183,234,196,168,196,191,215,184,176,250,223,254,237,173,181,184,165,239,181,163,177,179,181,184,176,238,194,189,242,236,251,193,184,178,193,230,241,219,176,223,171,228,188,182,238,243,238,241,240,150,179,237,239,248,242,168,184,185,240,232,229,245,186,183,180,254,235,225,246,236,189,181,232,258,181,172,262,248,245,221,190,182,238,219,164,183,189,243,189,234,200,231,229,260,178,225,239,178,242,243,169,182,185,234,225,181,234,251,170,241,249,239,239,186,254,164,181,185,157,232,234,188,195,163,246,179,180,187,178,241,174,239,239,180,181,167,182,243,190,232,237,178,170,183,180,196,244,233,169,239,230,237,249,238,237,196,238,191,242,188,232,183,233,163,247,186,174,167,217,255,244,167,190,183,219,180,239,182,178,182,173,171,236,230,237,181,238,172,232,189,195,255,179,188,250,186,243,163,198,169,180,233,256,242,233,227,242,239,167,169,230,183,185,188,228,175,183,239,247,238,236,245,185,236,180,248,249,186,239,240,225,188,256,235,268,170,226,239,163,160,248,189,176,233,178,229,227,242,233,234,239,184,234,183,192,229,190,180,181,183,169,246,257,195,182,251,243,240,253,235,191,164,235,184,238,169,177,166,176,230,183,176,243,231,191,181,219,186,168,174,229,177,184,249,182,254,244,233,249,200,182,242,242,243,195,258,241,177,177,242,241,172,204,223,193,186,184,241,267,183,182,185,240,237,244,182,255,248,194,179,169,254,239,251,197,171,186,245,243,178,235,162,188,229,249,193,186,168,207,249,174,170,244,260,182,252,182,150,183,166,175,192,239,171,237,249,178,196,242,190,178,229,267,252,243,169,172,257,173,185,222,184,240,257,230,189,198,251,194,183,223,180,225,230,240,176,237,232,184,193,181,247,241,234,160,242,180,231,178,238,233,236,199,228,227,251,243,240,227,231,238,228,181,241,200,167,172,217,250,244,238,170,225,233,169,171,234,256,174,241,206,180,197,187,254,181,238,242,236,247,173,168,179,255,254,227,230,177,166,186,257,159,221,246,189,191,188,181,236,178,187,171,246,168,241,230,254,221,232,241,186,174,249,223,163,236,177,242,166,181,168,169,241,248,175,224,245,236,234,242,188,237,182,250,184,188,244,171,249,249,248,246,226,234,234,171,258,182,232,181,234,191,168,251,180,237,221,196,181,240,230,237,191,260,229,230,245,188,234,163,175,190,224,256,243,186,238,180,190,234,235,179,154,243,247,173,183,238,248,190,190,187,257,241,253,169,180,180,186,223,186,180,180,235,172,182,243,237,253,182,178,258,244,259,253,259,184,240,268,242,179,185,161,246,171,167,252,236,173,182,279,179,165,170,161,240,228,171,247,234,250,248,179,191,236,241,228,244,221,163,233,241,240,179,185,175,185,161,187,172,184,172,177,232,224,239,243,193,245,233,231,236,181,178,257,172,244,175,181,176,251,243,239,188,232,175,188,242,191,247,241,198,236,236,242,193,233,241,177,228,244,246,181,242,175,175,168,169,178,173,244,219,229,185,243,180,238,183,239,183,248,222,160,167,166,187,239,177,254,239,190,191,161,175,179,190,237,182,187,225,194,242,241,187,245,185,189,187,248,198,237,175,237,254,170,248,171,232,232,183,165,165,249,170],\"type\":\"box\"},{\"name\":\"Idade\",\"y\":[38,79,64,50,34,48,35,20,34,59,68,79,63,23,74,10,53,54,20,27,27,56,22,50,71,59,29,33,41,70,61,22,24,41,42,82,70,28,10,70,81,66,72,27,33,67,12,31,62,33,40,49,72,27,10,83,34,40,65,19,51,51,21,28,24,12,63,54,49,22,51,77,65,45,76,70,31,20,36,26,15,63,71,50,29,64,77,67,63,68,43,27,55,25,16,53,67,40,52,24,10,41,63,62,33,72,61,58,71,41,58,64,30,47,40,50,71,60,48,43,31,50,35,60,40,39,37,42,60,61,26,26,16,61,64,38,31,59,38,31,50,52,47,69,28,53,42,30,63,21,70,53,46,83,14,17,62,49,63,51,13,25,69,35,28,10,56,33,27,25,22,62,58,49,32,57,53,56,58,61,43,25,32,28,51,58,18,30,56,16,28,43,28,36,60,83,41,70,31,44,44,38,55,55,70,59,32,61,60,49,21,44,43,63,27,46,47,71,71,24,55,52,13,30,46,23,33,50,21,44,59,62,39,56,50,58,65,26,42,10,51,40,44,34,23,58,52,55,60,31,63,31,30,59,57,41,30,31,31,75,81,19,40,45,43,16,73,52,39,57,70,34,21,68,65,41,27,67,63,34,43,69,40,49,44,86,62,33,47,10,47,53,10,27,60,63,26,69,63,53,43,18,41,25,38,15,41,53,18,36,44,53,65,58,62,68,61,75,64,28,25,30,71,32,23,36,47,72,31,27,81,42,34,67,71,28,32,28,66,61,33,67,26,28,25,29,43,28,60,58,33,33,57,69,65,48,64,28,78,21,54,29,20,24,85,21,52,67,76,10,39,69,68,62,37,27,26,28,47,28,61,50,25,30,59,28,18,24,53,25,49,23,75,51,59,38,68,13,26,56,55,49,18,65,15,27,25,58,62,71,10,55,34,64,30,28,65,10,54,35,75,61,63,19,37,61,52,81,16,31,15,67,76,17,54,55,28,67,82,17,37,37,10,55,29,70,36,85,54,65,26,75,46,26,49,29,60,43,37,71,48,56,74,35,16,30,47,41,78,26,51,16,60,66,38,33,58,66,78,58,44,56,46,46,61,80,29,63,38,52,32,51,57,44,74,56,52,48,78,76,58,64,64,13,65,31,54,14,54,10,14,69,53,25,53,26,25,36,51,15,28,35,32,58,35,27,37,70,74,58,22,32,27,31,24,56,10,25,31,49,21,80,49,44,67,34,22,30,37,24,35,62,46,25,52,33,41,47,12,69,52,56,37,76,33,41,53,65,45,21,47,79,62,55,64,51,27,65,46,16,63,30,54,37,36,62,60,73,13,22,62,21,43,61,29,69,43,59,43,41,54,27,63,41,77,70,21,29,67,40,60,18,25,23,34,69,25,37,33,53,41,21,30,58,31,54,84,40,55,53,42,25,30,47,71,57,69,56,66,10,66,63,38,80,39,13,34,60,63,51,28,84,27,64,60,66,82,57,82,79,56,13,44,26,33,27,38,73,32,72,59,77,49,25,64,30,36,24,66,36,76,45,23,55,31,39,76,31,62,43,37,71,30,63,37,67,40,61,34,45,14,75,20,54,60,28,68,65,40,25,27,60,53,58,63,29,41,51,72,57,44,37,65,29,70,28,62,32,19,60,15,64,21,19,23,64,45,76,56,57,60,51,31,34,14,38,34,19,20,52,38,63,27,46,53,23,48,17,53,46,36,53,46,48,23,30,52,51,18,26,20,64,25,34,74,64,32,67,24,65,40,62,60,24,63,43,44,27,24,64,41,10,69,60,30,68,58,66,54],\"type\":\"box\"},{\"name\":\"Glicemia\",\"y\":[93,89,102,123,82,90,129,133,88,133,116,94,93,151,136,131,145,138,130,137,84,104,84,130,85,130,105,79,87,124,141,138,135,77,135,147,84,134,128,89,94,142,91,83,84,141,129,95,146,77,77,91,141,146,145,152,138,90,145,70,136,151,83,132,82,129,140,128,142,157,139,152,133,129,130,151,145,97,103,142,128,87,130,86,148,85,137,136,144,146,155,89,75,111,96,129,81,84,92,141,147,89,123,141,141,151,105,130,142,131,97,83,76,84,95,84,82,94,115,70,145,104,143,142,145,141,129,64,139,88,104,74,98,80,141,127,88,100,95,157,81,157,98,124,126,145,95,94,129,134,90,91,150,71,155,85,82,89,130,135,130,148,104,139,140,86,144,151,150,120,77,137,148,119,98,147,95,81,141,98,87,106,78,88,125,143,137,146,92,67,86,136,95,118,98,99,106,94,91,70,111,80,141,144,138,92,101,141,86,148,154,151,142,89,130,124,136,135,97,148,101,146,89,87,95,146,155,125,153,94,143,142,138,75,145,83,135,82,91,72,92,104,103,85,83,156,90,83,94,154,122,133,99,99,87,140,147,88,80,96,139,80,87,162,132,82,66,95,111,144,102,136,141,80,85,80,142,92,132,132,153,105,78,89,96,142,108,84,145,131,129,86,84,149,146,97,96,94,78,140,95,149,88,98,94,91,99,152,150,96,161,66,84,146,97,133,88,154,125,135,91,76,90,78,156,128,81,155,146,161,98,97,132,140,108,149,73,86,143,87,85,88,151,89,79,109,94,103,135,140,150,105,102,142,132,86,143,86,87,147,139,130,125,96,135,150,158,80,124,102,87,134,161,89,99,94,76,93,125,145,134,97,156,141,138,89,142,142,104,132,93,97,80,88,108,99,94,109,73,142,100,139,150,99,141,86,138,90,168,85,82,148,89,80,87,140,150,103,92,97,87,72,151,86,146,83,77,100,73,92,94,108,136,102,160,132,156,124,101,101,89,114,86,97,164,121,140,92,128,105,130,117,126,142,168,96,88,90,146,89,79,80,89,133,100,91,84,162,148,76,129,97,85,141,130,159,92,146,143,93,97,153,139,145,90,86,162,141,102,131,130,145,99,135,96,137,86,87,138,85,154,155,81,95,84,143,143,103,88,85,94,103,159,134,140,83,86,127,90,127,133,112,90,132,169,84,81,81,163,72,82,87,96,142,137,85,155,75,78,151,86,160,77,84,91,141,97,128,80,91,77,137,143,96,68,87,157,71,161,134,138,100,94,128,89,106,93,98,135,167,75,145,88,137,124,82,143,141,90,96,129,141,153,154,121,138,146,149,89,130,89,67,101,103,79,90,93,94,132,148,96,139,81,131,142,139,83,139,147,132,143,81,127,78,121,76,128,90,101,138,156,83,127,86,100,150,95,91,136,103,151,88,81,91,102,90,73,143,132,133,145,133,91,129,95,156,96,146,128,137,137,133,78,145,124,79,131,140,91,150,141,152,147,85,101,85,100,84,88,157,83,146,80,86,83,136,84,138,136,84,158,98,84,133,143,141,78,138,98,102,102,156,74,102,136,97,147,132,88,100,109,156,92,92,94,89,136,126,96,89,126,127,70,99,139,142,143,141,157,132,68,89,103,95,147,136,96,128,129,137,142,92,100,135,69,145,90,128,88,80,135,144,135,139,130,155,147,133,82,87,137,154,83,151,94,89,87,153,152,163,129,96,124,96,140,138,141,147,83,89,95,135,94,134,138,133,123,129,96,152,149,148,89,89,94,152,150,148,99,95,91,137,94,121,103,95,145,96,140],\"type\":\"box\"}],                        {\"template\":{\"data\":{\"histogram2dcontour\":[{\"type\":\"histogram2dcontour\",\"colorbar\":{\"outlinewidth\":0,\"ticks\":\"\"},\"colorscale\":[[0.0,\"#0d0887\"],[0.1111111111111111,\"#46039f\"],[0.2222222222222222,\"#7201a8\"],[0.3333333333333333,\"#9c179e\"],[0.4444444444444444,\"#bd3786\"],[0.5555555555555556,\"#d8576b\"],[0.6666666666666666,\"#ed7953\"],[0.7777777777777778,\"#fb9f3a\"],[0.8888888888888888,\"#fdca26\"],[1.0,\"#f0f921\"]]}],\"choropleth\":[{\"type\":\"choropleth\",\"colorbar\":{\"outlinewidth\":0,\"ticks\":\"\"}}],\"histogram2d\":[{\"type\":\"histogram2d\",\"colorbar\":{\"outlinewidth\":0,\"ticks\":\"\"},\"colorscale\":[[0.0,\"#0d0887\"],[0.1111111111111111,\"#46039f\"],[0.2222222222222222,\"#7201a8\"],[0.3333333333333333,\"#9c179e\"],[0.4444444444444444,\"#bd3786\"],[0.5555555555555556,\"#d8576b\"],[0.6666666666666666,\"#ed7953\"],[0.7777777777777778,\"#fb9f3a\"],[0.8888888888888888,\"#fdca26\"],[1.0,\"#f0f921\"]]}],\"heatmap\":[{\"type\":\"heatmap\",\"colorbar\":{\"outlinewidth\":0,\"ticks\":\"\"},\"colorscale\":[[0.0,\"#0d0887\"],[0.1111111111111111,\"#46039f\"],[0.2222222222222222,\"#7201a8\"],[0.3333333333333333,\"#9c179e\"],[0.4444444444444444,\"#bd3786\"],[0.5555555555555556,\"#d8576b\"],[0.6666666666666666,\"#ed7953\"],[0.7777777777777778,\"#fb9f3a\"],[0.8888888888888888,\"#fdca26\"],[1.0,\"#f0f921\"]]}],\"heatmapgl\":[{\"type\":\"heatmapgl\",\"colorbar\":{\"outlinewidth\":0,\"ticks\":\"\"},\"colorscale\":[[0.0,\"#0d0887\"],[0.1111111111111111,\"#46039f\"],[0.2222222222222222,\"#7201a8\"],[0.3333333333333333,\"#9c179e\"],[0.4444444444444444,\"#bd3786\"],[0.5555555555555556,\"#d8576b\"],[0.6666666666666666,\"#ed7953\"],[0.7777777777777778,\"#fb9f3a\"],[0.8888888888888888,\"#fdca26\"],[1.0,\"#f0f921\"]]}],\"contourcarpet\":[{\"type\":\"contourcarpet\",\"colorbar\":{\"outlinewidth\":0,\"ticks\":\"\"}}],\"contour\":[{\"type\":\"contour\",\"colorbar\":{\"outlinewidth\":0,\"ticks\":\"\"},\"colorscale\":[[0.0,\"#0d0887\"],[0.1111111111111111,\"#46039f\"],[0.2222222222222222,\"#7201a8\"],[0.3333333333333333,\"#9c179e\"],[0.4444444444444444,\"#bd3786\"],[0.5555555555555556,\"#d8576b\"],[0.6666666666666666,\"#ed7953\"],[0.7777777777777778,\"#fb9f3a\"],[0.8888888888888888,\"#fdca26\"],[1.0,\"#f0f921\"]]}],\"surface\":[{\"type\":\"surface\",\"colorbar\":{\"outlinewidth\":0,\"ticks\":\"\"},\"colorscale\":[[0.0,\"#0d0887\"],[0.1111111111111111,\"#46039f\"],[0.2222222222222222,\"#7201a8\"],[0.3333333333333333,\"#9c179e\"],[0.4444444444444444,\"#bd3786\"],[0.5555555555555556,\"#d8576b\"],[0.6666666666666666,\"#ed7953\"],[0.7777777777777778,\"#fb9f3a\"],[0.8888888888888888,\"#fdca26\"],[1.0,\"#f0f921\"]]}],\"mesh3d\":[{\"type\":\"mesh3d\",\"colorbar\":{\"outlinewidth\":0,\"ticks\":\"\"}}],\"scatter\":[{\"fillpattern\":{\"fillmode\":\"overlay\",\"size\":10,\"solidity\":0.2},\"type\":\"scatter\"}],\"parcoords\":[{\"type\":\"parcoords\",\"line\":{\"colorbar\":{\"outlinewidth\":0,\"ticks\":\"\"}}}],\"scatterpolargl\":[{\"type\":\"scatterpolargl\",\"marker\":{\"colorbar\":{\"outlinewidth\":0,\"ticks\":\"\"}}}],\"bar\":[{\"error_x\":{\"color\":\"#2a3f5f\"},\"error_y\":{\"color\":\"#2a3f5f\"},\"marker\":{\"line\":{\"color\":\"#E5ECF6\",\"width\":0.5},\"pattern\":{\"fillmode\":\"overlay\",\"size\":10,\"solidity\":0.2}},\"type\":\"bar\"}],\"scattergeo\":[{\"type\":\"scattergeo\",\"marker\":{\"colorbar\":{\"outlinewidth\":0,\"ticks\":\"\"}}}],\"scatterpolar\":[{\"type\":\"scatterpolar\",\"marker\":{\"colorbar\":{\"outlinewidth\":0,\"ticks\":\"\"}}}],\"histogram\":[{\"marker\":{\"pattern\":{\"fillmode\":\"overlay\",\"size\":10,\"solidity\":0.2}},\"type\":\"histogram\"}],\"scattergl\":[{\"type\":\"scattergl\",\"marker\":{\"colorbar\":{\"outlinewidth\":0,\"ticks\":\"\"}}}],\"scatter3d\":[{\"type\":\"scatter3d\",\"line\":{\"colorbar\":{\"outlinewidth\":0,\"ticks\":\"\"}},\"marker\":{\"colorbar\":{\"outlinewidth\":0,\"ticks\":\"\"}}}],\"scattermapbox\":[{\"type\":\"scattermapbox\",\"marker\":{\"colorbar\":{\"outlinewidth\":0,\"ticks\":\"\"}}}],\"scatterternary\":[{\"type\":\"scatterternary\",\"marker\":{\"colorbar\":{\"outlinewidth\":0,\"ticks\":\"\"}}}],\"scattercarpet\":[{\"type\":\"scattercarpet\",\"marker\":{\"colorbar\":{\"outlinewidth\":0,\"ticks\":\"\"}}}],\"carpet\":[{\"aaxis\":{\"endlinecolor\":\"#2a3f5f\",\"gridcolor\":\"white\",\"linecolor\":\"white\",\"minorgridcolor\":\"white\",\"startlinecolor\":\"#2a3f5f\"},\"baxis\":{\"endlinecolor\":\"#2a3f5f\",\"gridcolor\":\"white\",\"linecolor\":\"white\",\"minorgridcolor\":\"white\",\"startlinecolor\":\"#2a3f5f\"},\"type\":\"carpet\"}],\"table\":[{\"cells\":{\"fill\":{\"color\":\"#EBF0F8\"},\"line\":{\"color\":\"white\"}},\"header\":{\"fill\":{\"color\":\"#C8D4E3\"},\"line\":{\"color\":\"white\"}},\"type\":\"table\"}],\"barpolar\":[{\"marker\":{\"line\":{\"color\":\"#E5ECF6\",\"width\":0.5},\"pattern\":{\"fillmode\":\"overlay\",\"size\":10,\"solidity\":0.2}},\"type\":\"barpolar\"}],\"pie\":[{\"automargin\":true,\"type\":\"pie\"}]},\"layout\":{\"autotypenumbers\":\"strict\",\"colorway\":[\"#636efa\",\"#EF553B\",\"#00cc96\",\"#ab63fa\",\"#FFA15A\",\"#19d3f3\",\"#FF6692\",\"#B6E880\",\"#FF97FF\",\"#FECB52\"],\"font\":{\"color\":\"#2a3f5f\"},\"hovermode\":\"closest\",\"hoverlabel\":{\"align\":\"left\"},\"paper_bgcolor\":\"white\",\"plot_bgcolor\":\"#E5ECF6\",\"polar\":{\"bgcolor\":\"#E5ECF6\",\"angularaxis\":{\"gridcolor\":\"white\",\"linecolor\":\"white\",\"ticks\":\"\"},\"radialaxis\":{\"gridcolor\":\"white\",\"linecolor\":\"white\",\"ticks\":\"\"}},\"ternary\":{\"bgcolor\":\"#E5ECF6\",\"aaxis\":{\"gridcolor\":\"white\",\"linecolor\":\"white\",\"ticks\":\"\"},\"baxis\":{\"gridcolor\":\"white\",\"linecolor\":\"white\",\"ticks\":\"\"},\"caxis\":{\"gridcolor\":\"white\",\"linecolor\":\"white\",\"ticks\":\"\"}},\"coloraxis\":{\"colorbar\":{\"outlinewidth\":0,\"ticks\":\"\"}},\"colorscale\":{\"sequential\":[[0.0,\"#0d0887\"],[0.1111111111111111,\"#46039f\"],[0.2222222222222222,\"#7201a8\"],[0.3333333333333333,\"#9c179e\"],[0.4444444444444444,\"#bd3786\"],[0.5555555555555556,\"#d8576b\"],[0.6666666666666666,\"#ed7953\"],[0.7777777777777778,\"#fb9f3a\"],[0.8888888888888888,\"#fdca26\"],[1.0,\"#f0f921\"]],\"sequentialminus\":[[0.0,\"#0d0887\"],[0.1111111111111111,\"#46039f\"],[0.2222222222222222,\"#7201a8\"],[0.3333333333333333,\"#9c179e\"],[0.4444444444444444,\"#bd3786\"],[0.5555555555555556,\"#d8576b\"],[0.6666666666666666,\"#ed7953\"],[0.7777777777777778,\"#fb9f3a\"],[0.8888888888888888,\"#fdca26\"],[1.0,\"#f0f921\"]],\"diverging\":[[0,\"#8e0152\"],[0.1,\"#c51b7d\"],[0.2,\"#de77ae\"],[0.3,\"#f1b6da\"],[0.4,\"#fde0ef\"],[0.5,\"#f7f7f7\"],[0.6,\"#e6f5d0\"],[0.7,\"#b8e186\"],[0.8,\"#7fbc41\"],[0.9,\"#4d9221\"],[1,\"#276419\"]]},\"xaxis\":{\"gridcolor\":\"white\",\"linecolor\":\"white\",\"ticks\":\"\",\"title\":{\"standoff\":15},\"zerolinecolor\":\"white\",\"automargin\":true,\"zerolinewidth\":2},\"yaxis\":{\"gridcolor\":\"white\",\"linecolor\":\"white\",\"ticks\":\"\",\"title\":{\"standoff\":15},\"zerolinecolor\":\"white\",\"automargin\":true,\"zerolinewidth\":2},\"scene\":{\"xaxis\":{\"backgroundcolor\":\"#E5ECF6\",\"gridcolor\":\"white\",\"linecolor\":\"white\",\"showbackground\":true,\"ticks\":\"\",\"zerolinecolor\":\"white\",\"gridwidth\":2},\"yaxis\":{\"backgroundcolor\":\"#E5ECF6\",\"gridcolor\":\"white\",\"linecolor\":\"white\",\"showbackground\":true,\"ticks\":\"\",\"zerolinecolor\":\"white\",\"gridwidth\":2},\"zaxis\":{\"backgroundcolor\":\"#E5ECF6\",\"gridcolor\":\"white\",\"linecolor\":\"white\",\"showbackground\":true,\"ticks\":\"\",\"zerolinecolor\":\"white\",\"gridwidth\":2}},\"shapedefaults\":{\"line\":{\"color\":\"#2a3f5f\"}},\"annotationdefaults\":{\"arrowcolor\":\"#2a3f5f\",\"arrowhead\":0,\"arrowwidth\":1},\"geo\":{\"bgcolor\":\"white\",\"landcolor\":\"#E5ECF6\",\"subunitcolor\":\"white\",\"showland\":true,\"showlakes\":true,\"lakecolor\":\"white\"},\"title\":{\"x\":0.05},\"mapbox\":{\"style\":\"light\"}}},\"yaxis\":{\"title\":{\"text\":\"Distribui\\u00e7\\u00e3o dos dados\",\"font\":{\"size\":16}}},\"xaxis\":{\"tickfont\":{\"size\":16}},\"legend\":{\"font\":{\"size\":16},\"orientation\":\"h\",\"x\":0.08,\"y\":1.1},\"width\":600,\"height\":600},                        {\"responsive\": true}                    ).then(function(){\n",
       "                            \n",
       "var gd = document.getElementById('604e0349-e547-4484-a721-d5ed5ce1d311');\n",
       "var x = new MutationObserver(function (mutations, observer) {{\n",
       "        var display = window.getComputedStyle(gd).display;\n",
       "        if (!display || display === 'none') {{\n",
       "            console.log([gd, 'removed!']);\n",
       "            Plotly.purge(gd);\n",
       "            observer.disconnect();\n",
       "        }}\n",
       "}});\n",
       "\n",
       "// Listen for the removal of the full notebook cells\n",
       "var notebookContainer = gd.closest('#notebook-container');\n",
       "if (notebookContainer) {{\n",
       "    x.observe(notebookContainer, {childList: true});\n",
       "}}\n",
       "\n",
       "// Listen for the clearing of the current output cell\n",
       "var outputEl = gd.closest('.output');\n",
       "if (outputEl) {{\n",
       "    x.observe(outputEl, {childList: true});\n",
       "}}\n",
       "\n",
       "                        })                };                });            </script>        </div>"
      ]
     },
     "metadata": {},
     "output_type": "display_data"
    }
   ],
   "source": [
    "# lista de boxplots cada coluna\n",
    "traces = []\n",
    "for col in df.columns[:3]:  # Use as primeiras 3 colunas como valores de x\n",
    "    trace = go.Box(y=df[col], name=col)\n",
    "    traces.append(trace)\n",
    "\n",
    "# Figura\n",
    "fig = go.Figure(data=traces)\n",
    "\n",
    "fig.update_layout(\n",
    "    yaxis=dict(title='Distribuição dos dados', title_font=dict(size=16)),  # Defina o tamanho da fonte do rótulo do eixo y\n",
    "    xaxis=dict(tickfont=dict(size=16)),  # Defina o tamanho da fonte dos rótulos do eixo x\n",
    "    legend=dict(orientation=\"h\", x=0.08, y=1.1, font=dict(size=16)),  # Defina o tamanho da fonte da legenda\n",
    "    width=600,  # Ajuste a largura do gráfico\n",
    "    height=600  # Torne o gráfico quadrado\n",
    ")\n",
    "\n",
    "fig.show()"
   ]
  },
  {
   "cell_type": "markdown",
   "metadata": {},
   "source": [
    "## Matriz de correlação"
   ]
  },
  {
   "cell_type": "code",
   "execution_count": 44,
   "metadata": {},
   "outputs": [
    {
     "data": {
      "application/vnd.plotly.v1+json": {
       "config": {
        "plotlyServerURL": "https://plot.ly"
       },
       "data": [
        {
         "colorbar": {
          "title": {
           "text": "Correlação"
          }
         },
         "colorscale": [
          [
           0,
           "rgb(58, 76, 192)"
          ],
          [
           0.1,
           "rgb(68, 90, 204)"
          ],
          [
           0.2,
           "rgb(77, 104, 215)"
          ],
          [
           0.3,
           "rgb(86, 117, 225)"
          ],
          [
           0.4,
           "rgb(95, 130, 234)"
          ],
          [
           0.5,
           "rgb(139, 151, 255)"
          ],
          [
           0.6,
           "rgb(198, 184, 241)"
          ],
          [
           0.7,
           "rgb(214, 204, 241)"
          ],
          [
           0.8,
           "rgb(229, 224, 242)"
          ],
          [
           0.9,
           "rgb(245, 245, 245)"
          ],
          [
           1,
           "rgb(250, 230, 230)"
          ]
         ],
         "type": "heatmap",
         "x": [
          "Colesterol Total",
          "Idade",
          "Glicemia",
          "Desfecho"
         ],
         "y": [
          "Colesterol Total",
          "Idade",
          "Glicemia",
          "Desfecho"
         ],
         "z": [
          [
           1,
           0.05234119779081198,
           -0.008930484388336598,
           0.33292281577323424
          ],
          [
           0.05234119779081198,
           1,
           0.06366539260824741,
           0.33169698245908513
          ],
          [
           -0.008930484388336598,
           0.06366539260824741,
           1,
           0.21511058455154364
          ],
          [
           0.33292281577323424,
           0.33169698245908513,
           0.21511058455154364,
           1
          ]
         ],
         "zmax": 1,
         "zmin": -1
        }
       ],
       "layout": {
        "annotations": [
         {
          "font": {
           "size": 16
          },
          "showarrow": false,
          "text": "1.0",
          "x": "Colesterol Total",
          "y": "Colesterol Total"
         },
         {
          "font": {
           "size": 16
          },
          "showarrow": false,
          "text": "0.05",
          "x": "Idade",
          "y": "Colesterol Total"
         },
         {
          "font": {
           "size": 16
          },
          "showarrow": false,
          "text": "-0.01",
          "x": "Glicemia",
          "y": "Colesterol Total"
         },
         {
          "font": {
           "size": 16
          },
          "showarrow": false,
          "text": "0.33",
          "x": "Desfecho",
          "y": "Colesterol Total"
         },
         {
          "font": {
           "size": 16
          },
          "showarrow": false,
          "text": "0.05",
          "x": "Colesterol Total",
          "y": "Idade"
         },
         {
          "font": {
           "size": 16
          },
          "showarrow": false,
          "text": "1.0",
          "x": "Idade",
          "y": "Idade"
         },
         {
          "font": {
           "size": 16
          },
          "showarrow": false,
          "text": "0.06",
          "x": "Glicemia",
          "y": "Idade"
         },
         {
          "font": {
           "size": 16
          },
          "showarrow": false,
          "text": "0.33",
          "x": "Desfecho",
          "y": "Idade"
         },
         {
          "font": {
           "size": 16
          },
          "showarrow": false,
          "text": "-0.01",
          "x": "Colesterol Total",
          "y": "Glicemia"
         },
         {
          "font": {
           "size": 16
          },
          "showarrow": false,
          "text": "0.06",
          "x": "Idade",
          "y": "Glicemia"
         },
         {
          "font": {
           "size": 16
          },
          "showarrow": false,
          "text": "1.0",
          "x": "Glicemia",
          "y": "Glicemia"
         },
         {
          "font": {
           "size": 16
          },
          "showarrow": false,
          "text": "0.22",
          "x": "Desfecho",
          "y": "Glicemia"
         },
         {
          "font": {
           "size": 16
          },
          "showarrow": false,
          "text": "0.33",
          "x": "Colesterol Total",
          "y": "Desfecho"
         },
         {
          "font": {
           "size": 16
          },
          "showarrow": false,
          "text": "0.33",
          "x": "Idade",
          "y": "Desfecho"
         },
         {
          "font": {
           "size": 16
          },
          "showarrow": false,
          "text": "0.22",
          "x": "Glicemia",
          "y": "Desfecho"
         },
         {
          "font": {
           "size": 16
          },
          "showarrow": false,
          "text": "1.0",
          "x": "Desfecho",
          "y": "Desfecho"
         }
        ],
        "height": 600,
        "template": {
         "data": {
          "bar": [
           {
            "error_x": {
             "color": "#2a3f5f"
            },
            "error_y": {
             "color": "#2a3f5f"
            },
            "marker": {
             "line": {
              "color": "#E5ECF6",
              "width": 0.5
             },
             "pattern": {
              "fillmode": "overlay",
              "size": 10,
              "solidity": 0.2
             }
            },
            "type": "bar"
           }
          ],
          "barpolar": [
           {
            "marker": {
             "line": {
              "color": "#E5ECF6",
              "width": 0.5
             },
             "pattern": {
              "fillmode": "overlay",
              "size": 10,
              "solidity": 0.2
             }
            },
            "type": "barpolar"
           }
          ],
          "carpet": [
           {
            "aaxis": {
             "endlinecolor": "#2a3f5f",
             "gridcolor": "white",
             "linecolor": "white",
             "minorgridcolor": "white",
             "startlinecolor": "#2a3f5f"
            },
            "baxis": {
             "endlinecolor": "#2a3f5f",
             "gridcolor": "white",
             "linecolor": "white",
             "minorgridcolor": "white",
             "startlinecolor": "#2a3f5f"
            },
            "type": "carpet"
           }
          ],
          "choropleth": [
           {
            "colorbar": {
             "outlinewidth": 0,
             "ticks": ""
            },
            "type": "choropleth"
           }
          ],
          "contour": [
           {
            "colorbar": {
             "outlinewidth": 0,
             "ticks": ""
            },
            "colorscale": [
             [
              0,
              "#0d0887"
             ],
             [
              0.1111111111111111,
              "#46039f"
             ],
             [
              0.2222222222222222,
              "#7201a8"
             ],
             [
              0.3333333333333333,
              "#9c179e"
             ],
             [
              0.4444444444444444,
              "#bd3786"
             ],
             [
              0.5555555555555556,
              "#d8576b"
             ],
             [
              0.6666666666666666,
              "#ed7953"
             ],
             [
              0.7777777777777778,
              "#fb9f3a"
             ],
             [
              0.8888888888888888,
              "#fdca26"
             ],
             [
              1,
              "#f0f921"
             ]
            ],
            "type": "contour"
           }
          ],
          "contourcarpet": [
           {
            "colorbar": {
             "outlinewidth": 0,
             "ticks": ""
            },
            "type": "contourcarpet"
           }
          ],
          "heatmap": [
           {
            "colorbar": {
             "outlinewidth": 0,
             "ticks": ""
            },
            "colorscale": [
             [
              0,
              "#0d0887"
             ],
             [
              0.1111111111111111,
              "#46039f"
             ],
             [
              0.2222222222222222,
              "#7201a8"
             ],
             [
              0.3333333333333333,
              "#9c179e"
             ],
             [
              0.4444444444444444,
              "#bd3786"
             ],
             [
              0.5555555555555556,
              "#d8576b"
             ],
             [
              0.6666666666666666,
              "#ed7953"
             ],
             [
              0.7777777777777778,
              "#fb9f3a"
             ],
             [
              0.8888888888888888,
              "#fdca26"
             ],
             [
              1,
              "#f0f921"
             ]
            ],
            "type": "heatmap"
           }
          ],
          "heatmapgl": [
           {
            "colorbar": {
             "outlinewidth": 0,
             "ticks": ""
            },
            "colorscale": [
             [
              0,
              "#0d0887"
             ],
             [
              0.1111111111111111,
              "#46039f"
             ],
             [
              0.2222222222222222,
              "#7201a8"
             ],
             [
              0.3333333333333333,
              "#9c179e"
             ],
             [
              0.4444444444444444,
              "#bd3786"
             ],
             [
              0.5555555555555556,
              "#d8576b"
             ],
             [
              0.6666666666666666,
              "#ed7953"
             ],
             [
              0.7777777777777778,
              "#fb9f3a"
             ],
             [
              0.8888888888888888,
              "#fdca26"
             ],
             [
              1,
              "#f0f921"
             ]
            ],
            "type": "heatmapgl"
           }
          ],
          "histogram": [
           {
            "marker": {
             "pattern": {
              "fillmode": "overlay",
              "size": 10,
              "solidity": 0.2
             }
            },
            "type": "histogram"
           }
          ],
          "histogram2d": [
           {
            "colorbar": {
             "outlinewidth": 0,
             "ticks": ""
            },
            "colorscale": [
             [
              0,
              "#0d0887"
             ],
             [
              0.1111111111111111,
              "#46039f"
             ],
             [
              0.2222222222222222,
              "#7201a8"
             ],
             [
              0.3333333333333333,
              "#9c179e"
             ],
             [
              0.4444444444444444,
              "#bd3786"
             ],
             [
              0.5555555555555556,
              "#d8576b"
             ],
             [
              0.6666666666666666,
              "#ed7953"
             ],
             [
              0.7777777777777778,
              "#fb9f3a"
             ],
             [
              0.8888888888888888,
              "#fdca26"
             ],
             [
              1,
              "#f0f921"
             ]
            ],
            "type": "histogram2d"
           }
          ],
          "histogram2dcontour": [
           {
            "colorbar": {
             "outlinewidth": 0,
             "ticks": ""
            },
            "colorscale": [
             [
              0,
              "#0d0887"
             ],
             [
              0.1111111111111111,
              "#46039f"
             ],
             [
              0.2222222222222222,
              "#7201a8"
             ],
             [
              0.3333333333333333,
              "#9c179e"
             ],
             [
              0.4444444444444444,
              "#bd3786"
             ],
             [
              0.5555555555555556,
              "#d8576b"
             ],
             [
              0.6666666666666666,
              "#ed7953"
             ],
             [
              0.7777777777777778,
              "#fb9f3a"
             ],
             [
              0.8888888888888888,
              "#fdca26"
             ],
             [
              1,
              "#f0f921"
             ]
            ],
            "type": "histogram2dcontour"
           }
          ],
          "mesh3d": [
           {
            "colorbar": {
             "outlinewidth": 0,
             "ticks": ""
            },
            "type": "mesh3d"
           }
          ],
          "parcoords": [
           {
            "line": {
             "colorbar": {
              "outlinewidth": 0,
              "ticks": ""
             }
            },
            "type": "parcoords"
           }
          ],
          "pie": [
           {
            "automargin": true,
            "type": "pie"
           }
          ],
          "scatter": [
           {
            "fillpattern": {
             "fillmode": "overlay",
             "size": 10,
             "solidity": 0.2
            },
            "type": "scatter"
           }
          ],
          "scatter3d": [
           {
            "line": {
             "colorbar": {
              "outlinewidth": 0,
              "ticks": ""
             }
            },
            "marker": {
             "colorbar": {
              "outlinewidth": 0,
              "ticks": ""
             }
            },
            "type": "scatter3d"
           }
          ],
          "scattercarpet": [
           {
            "marker": {
             "colorbar": {
              "outlinewidth": 0,
              "ticks": ""
             }
            },
            "type": "scattercarpet"
           }
          ],
          "scattergeo": [
           {
            "marker": {
             "colorbar": {
              "outlinewidth": 0,
              "ticks": ""
             }
            },
            "type": "scattergeo"
           }
          ],
          "scattergl": [
           {
            "marker": {
             "colorbar": {
              "outlinewidth": 0,
              "ticks": ""
             }
            },
            "type": "scattergl"
           }
          ],
          "scattermapbox": [
           {
            "marker": {
             "colorbar": {
              "outlinewidth": 0,
              "ticks": ""
             }
            },
            "type": "scattermapbox"
           }
          ],
          "scatterpolar": [
           {
            "marker": {
             "colorbar": {
              "outlinewidth": 0,
              "ticks": ""
             }
            },
            "type": "scatterpolar"
           }
          ],
          "scatterpolargl": [
           {
            "marker": {
             "colorbar": {
              "outlinewidth": 0,
              "ticks": ""
             }
            },
            "type": "scatterpolargl"
           }
          ],
          "scatterternary": [
           {
            "marker": {
             "colorbar": {
              "outlinewidth": 0,
              "ticks": ""
             }
            },
            "type": "scatterternary"
           }
          ],
          "surface": [
           {
            "colorbar": {
             "outlinewidth": 0,
             "ticks": ""
            },
            "colorscale": [
             [
              0,
              "#0d0887"
             ],
             [
              0.1111111111111111,
              "#46039f"
             ],
             [
              0.2222222222222222,
              "#7201a8"
             ],
             [
              0.3333333333333333,
              "#9c179e"
             ],
             [
              0.4444444444444444,
              "#bd3786"
             ],
             [
              0.5555555555555556,
              "#d8576b"
             ],
             [
              0.6666666666666666,
              "#ed7953"
             ],
             [
              0.7777777777777778,
              "#fb9f3a"
             ],
             [
              0.8888888888888888,
              "#fdca26"
             ],
             [
              1,
              "#f0f921"
             ]
            ],
            "type": "surface"
           }
          ],
          "table": [
           {
            "cells": {
             "fill": {
              "color": "#EBF0F8"
             },
             "line": {
              "color": "white"
             }
            },
            "header": {
             "fill": {
              "color": "#C8D4E3"
             },
             "line": {
              "color": "white"
             }
            },
            "type": "table"
           }
          ]
         },
         "layout": {
          "annotationdefaults": {
           "arrowcolor": "#2a3f5f",
           "arrowhead": 0,
           "arrowwidth": 1
          },
          "autotypenumbers": "strict",
          "coloraxis": {
           "colorbar": {
            "outlinewidth": 0,
            "ticks": ""
           }
          },
          "colorscale": {
           "diverging": [
            [
             0,
             "#8e0152"
            ],
            [
             0.1,
             "#c51b7d"
            ],
            [
             0.2,
             "#de77ae"
            ],
            [
             0.3,
             "#f1b6da"
            ],
            [
             0.4,
             "#fde0ef"
            ],
            [
             0.5,
             "#f7f7f7"
            ],
            [
             0.6,
             "#e6f5d0"
            ],
            [
             0.7,
             "#b8e186"
            ],
            [
             0.8,
             "#7fbc41"
            ],
            [
             0.9,
             "#4d9221"
            ],
            [
             1,
             "#276419"
            ]
           ],
           "sequential": [
            [
             0,
             "#0d0887"
            ],
            [
             0.1111111111111111,
             "#46039f"
            ],
            [
             0.2222222222222222,
             "#7201a8"
            ],
            [
             0.3333333333333333,
             "#9c179e"
            ],
            [
             0.4444444444444444,
             "#bd3786"
            ],
            [
             0.5555555555555556,
             "#d8576b"
            ],
            [
             0.6666666666666666,
             "#ed7953"
            ],
            [
             0.7777777777777778,
             "#fb9f3a"
            ],
            [
             0.8888888888888888,
             "#fdca26"
            ],
            [
             1,
             "#f0f921"
            ]
           ],
           "sequentialminus": [
            [
             0,
             "#0d0887"
            ],
            [
             0.1111111111111111,
             "#46039f"
            ],
            [
             0.2222222222222222,
             "#7201a8"
            ],
            [
             0.3333333333333333,
             "#9c179e"
            ],
            [
             0.4444444444444444,
             "#bd3786"
            ],
            [
             0.5555555555555556,
             "#d8576b"
            ],
            [
             0.6666666666666666,
             "#ed7953"
            ],
            [
             0.7777777777777778,
             "#fb9f3a"
            ],
            [
             0.8888888888888888,
             "#fdca26"
            ],
            [
             1,
             "#f0f921"
            ]
           ]
          },
          "colorway": [
           "#636efa",
           "#EF553B",
           "#00cc96",
           "#ab63fa",
           "#FFA15A",
           "#19d3f3",
           "#FF6692",
           "#B6E880",
           "#FF97FF",
           "#FECB52"
          ],
          "font": {
           "color": "#2a3f5f"
          },
          "geo": {
           "bgcolor": "white",
           "lakecolor": "white",
           "landcolor": "#E5ECF6",
           "showlakes": true,
           "showland": true,
           "subunitcolor": "white"
          },
          "hoverlabel": {
           "align": "left"
          },
          "hovermode": "closest",
          "mapbox": {
           "style": "light"
          },
          "paper_bgcolor": "white",
          "plot_bgcolor": "#E5ECF6",
          "polar": {
           "angularaxis": {
            "gridcolor": "white",
            "linecolor": "white",
            "ticks": ""
           },
           "bgcolor": "#E5ECF6",
           "radialaxis": {
            "gridcolor": "white",
            "linecolor": "white",
            "ticks": ""
           }
          },
          "scene": {
           "xaxis": {
            "backgroundcolor": "#E5ECF6",
            "gridcolor": "white",
            "gridwidth": 2,
            "linecolor": "white",
            "showbackground": true,
            "ticks": "",
            "zerolinecolor": "white"
           },
           "yaxis": {
            "backgroundcolor": "#E5ECF6",
            "gridcolor": "white",
            "gridwidth": 2,
            "linecolor": "white",
            "showbackground": true,
            "ticks": "",
            "zerolinecolor": "white"
           },
           "zaxis": {
            "backgroundcolor": "#E5ECF6",
            "gridcolor": "white",
            "gridwidth": 2,
            "linecolor": "white",
            "showbackground": true,
            "ticks": "",
            "zerolinecolor": "white"
           }
          },
          "shapedefaults": {
           "line": {
            "color": "#2a3f5f"
           }
          },
          "ternary": {
           "aaxis": {
            "gridcolor": "white",
            "linecolor": "white",
            "ticks": ""
           },
           "baxis": {
            "gridcolor": "white",
            "linecolor": "white",
            "ticks": ""
           },
           "bgcolor": "#E5ECF6",
           "caxis": {
            "gridcolor": "white",
            "linecolor": "white",
            "ticks": ""
           }
          },
          "title": {
           "x": 0.05
          },
          "xaxis": {
           "automargin": true,
           "gridcolor": "white",
           "linecolor": "white",
           "ticks": "",
           "title": {
            "standoff": 15
           },
           "zerolinecolor": "white",
           "zerolinewidth": 2
          },
          "yaxis": {
           "automargin": true,
           "gridcolor": "white",
           "linecolor": "white",
           "ticks": "",
           "title": {
            "standoff": 15
           },
           "zerolinecolor": "white",
           "zerolinewidth": 2
          }
         }
        },
        "width": 600,
        "xaxis": {
         "side": "top",
         "tickfont": {
          "size": 14
         }
        },
        "yaxis": {
         "tickfont": {
          "size": 14
         }
        }
       }
      },
      "text/html": [
       "<div>                            <div id=\"ff0db777-3866-4056-857d-aa2bce463113\" class=\"plotly-graph-div\" style=\"height:600px; width:600px;\"></div>            <script type=\"text/javascript\">                require([\"plotly\"], function(Plotly) {                    window.PLOTLYENV=window.PLOTLYENV || {};                                    if (document.getElementById(\"ff0db777-3866-4056-857d-aa2bce463113\")) {                    Plotly.newPlot(                        \"ff0db777-3866-4056-857d-aa2bce463113\",                        [{\"colorbar\":{\"title\":{\"text\":\"Correla\\u00e7\\u00e3o\"}},\"colorscale\":[[0,\"rgb(58, 76, 192)\"],[0.1,\"rgb(68, 90, 204)\"],[0.2,\"rgb(77, 104, 215)\"],[0.3,\"rgb(86, 117, 225)\"],[0.4,\"rgb(95, 130, 234)\"],[0.5,\"rgb(139, 151, 255)\"],[0.6,\"rgb(198, 184, 241)\"],[0.7,\"rgb(214, 204, 241)\"],[0.8,\"rgb(229, 224, 242)\"],[0.9,\"rgb(245, 245, 245)\"],[1,\"rgb(250, 230, 230)\"]],\"x\":[\"Colesterol Total\",\"Idade\",\"Glicemia\",\"Desfecho\"],\"y\":[\"Colesterol Total\",\"Idade\",\"Glicemia\",\"Desfecho\"],\"z\":[[1.0,0.05234119779081198,-0.008930484388336598,0.33292281577323424],[0.05234119779081198,1.0,0.06366539260824741,0.33169698245908513],[-0.008930484388336598,0.06366539260824741,1.0,0.21511058455154364],[0.33292281577323424,0.33169698245908513,0.21511058455154364,1.0]],\"zmax\":1,\"zmin\":-1,\"type\":\"heatmap\"}],                        {\"template\":{\"data\":{\"histogram2dcontour\":[{\"type\":\"histogram2dcontour\",\"colorbar\":{\"outlinewidth\":0,\"ticks\":\"\"},\"colorscale\":[[0.0,\"#0d0887\"],[0.1111111111111111,\"#46039f\"],[0.2222222222222222,\"#7201a8\"],[0.3333333333333333,\"#9c179e\"],[0.4444444444444444,\"#bd3786\"],[0.5555555555555556,\"#d8576b\"],[0.6666666666666666,\"#ed7953\"],[0.7777777777777778,\"#fb9f3a\"],[0.8888888888888888,\"#fdca26\"],[1.0,\"#f0f921\"]]}],\"choropleth\":[{\"type\":\"choropleth\",\"colorbar\":{\"outlinewidth\":0,\"ticks\":\"\"}}],\"histogram2d\":[{\"type\":\"histogram2d\",\"colorbar\":{\"outlinewidth\":0,\"ticks\":\"\"},\"colorscale\":[[0.0,\"#0d0887\"],[0.1111111111111111,\"#46039f\"],[0.2222222222222222,\"#7201a8\"],[0.3333333333333333,\"#9c179e\"],[0.4444444444444444,\"#bd3786\"],[0.5555555555555556,\"#d8576b\"],[0.6666666666666666,\"#ed7953\"],[0.7777777777777778,\"#fb9f3a\"],[0.8888888888888888,\"#fdca26\"],[1.0,\"#f0f921\"]]}],\"heatmap\":[{\"type\":\"heatmap\",\"colorbar\":{\"outlinewidth\":0,\"ticks\":\"\"},\"colorscale\":[[0.0,\"#0d0887\"],[0.1111111111111111,\"#46039f\"],[0.2222222222222222,\"#7201a8\"],[0.3333333333333333,\"#9c179e\"],[0.4444444444444444,\"#bd3786\"],[0.5555555555555556,\"#d8576b\"],[0.6666666666666666,\"#ed7953\"],[0.7777777777777778,\"#fb9f3a\"],[0.8888888888888888,\"#fdca26\"],[1.0,\"#f0f921\"]]}],\"heatmapgl\":[{\"type\":\"heatmapgl\",\"colorbar\":{\"outlinewidth\":0,\"ticks\":\"\"},\"colorscale\":[[0.0,\"#0d0887\"],[0.1111111111111111,\"#46039f\"],[0.2222222222222222,\"#7201a8\"],[0.3333333333333333,\"#9c179e\"],[0.4444444444444444,\"#bd3786\"],[0.5555555555555556,\"#d8576b\"],[0.6666666666666666,\"#ed7953\"],[0.7777777777777778,\"#fb9f3a\"],[0.8888888888888888,\"#fdca26\"],[1.0,\"#f0f921\"]]}],\"contourcarpet\":[{\"type\":\"contourcarpet\",\"colorbar\":{\"outlinewidth\":0,\"ticks\":\"\"}}],\"contour\":[{\"type\":\"contour\",\"colorbar\":{\"outlinewidth\":0,\"ticks\":\"\"},\"colorscale\":[[0.0,\"#0d0887\"],[0.1111111111111111,\"#46039f\"],[0.2222222222222222,\"#7201a8\"],[0.3333333333333333,\"#9c179e\"],[0.4444444444444444,\"#bd3786\"],[0.5555555555555556,\"#d8576b\"],[0.6666666666666666,\"#ed7953\"],[0.7777777777777778,\"#fb9f3a\"],[0.8888888888888888,\"#fdca26\"],[1.0,\"#f0f921\"]]}],\"surface\":[{\"type\":\"surface\",\"colorbar\":{\"outlinewidth\":0,\"ticks\":\"\"},\"colorscale\":[[0.0,\"#0d0887\"],[0.1111111111111111,\"#46039f\"],[0.2222222222222222,\"#7201a8\"],[0.3333333333333333,\"#9c179e\"],[0.4444444444444444,\"#bd3786\"],[0.5555555555555556,\"#d8576b\"],[0.6666666666666666,\"#ed7953\"],[0.7777777777777778,\"#fb9f3a\"],[0.8888888888888888,\"#fdca26\"],[1.0,\"#f0f921\"]]}],\"mesh3d\":[{\"type\":\"mesh3d\",\"colorbar\":{\"outlinewidth\":0,\"ticks\":\"\"}}],\"scatter\":[{\"fillpattern\":{\"fillmode\":\"overlay\",\"size\":10,\"solidity\":0.2},\"type\":\"scatter\"}],\"parcoords\":[{\"type\":\"parcoords\",\"line\":{\"colorbar\":{\"outlinewidth\":0,\"ticks\":\"\"}}}],\"scatterpolargl\":[{\"type\":\"scatterpolargl\",\"marker\":{\"colorbar\":{\"outlinewidth\":0,\"ticks\":\"\"}}}],\"bar\":[{\"error_x\":{\"color\":\"#2a3f5f\"},\"error_y\":{\"color\":\"#2a3f5f\"},\"marker\":{\"line\":{\"color\":\"#E5ECF6\",\"width\":0.5},\"pattern\":{\"fillmode\":\"overlay\",\"size\":10,\"solidity\":0.2}},\"type\":\"bar\"}],\"scattergeo\":[{\"type\":\"scattergeo\",\"marker\":{\"colorbar\":{\"outlinewidth\":0,\"ticks\":\"\"}}}],\"scatterpolar\":[{\"type\":\"scatterpolar\",\"marker\":{\"colorbar\":{\"outlinewidth\":0,\"ticks\":\"\"}}}],\"histogram\":[{\"marker\":{\"pattern\":{\"fillmode\":\"overlay\",\"size\":10,\"solidity\":0.2}},\"type\":\"histogram\"}],\"scattergl\":[{\"type\":\"scattergl\",\"marker\":{\"colorbar\":{\"outlinewidth\":0,\"ticks\":\"\"}}}],\"scatter3d\":[{\"type\":\"scatter3d\",\"line\":{\"colorbar\":{\"outlinewidth\":0,\"ticks\":\"\"}},\"marker\":{\"colorbar\":{\"outlinewidth\":0,\"ticks\":\"\"}}}],\"scattermapbox\":[{\"type\":\"scattermapbox\",\"marker\":{\"colorbar\":{\"outlinewidth\":0,\"ticks\":\"\"}}}],\"scatterternary\":[{\"type\":\"scatterternary\",\"marker\":{\"colorbar\":{\"outlinewidth\":0,\"ticks\":\"\"}}}],\"scattercarpet\":[{\"type\":\"scattercarpet\",\"marker\":{\"colorbar\":{\"outlinewidth\":0,\"ticks\":\"\"}}}],\"carpet\":[{\"aaxis\":{\"endlinecolor\":\"#2a3f5f\",\"gridcolor\":\"white\",\"linecolor\":\"white\",\"minorgridcolor\":\"white\",\"startlinecolor\":\"#2a3f5f\"},\"baxis\":{\"endlinecolor\":\"#2a3f5f\",\"gridcolor\":\"white\",\"linecolor\":\"white\",\"minorgridcolor\":\"white\",\"startlinecolor\":\"#2a3f5f\"},\"type\":\"carpet\"}],\"table\":[{\"cells\":{\"fill\":{\"color\":\"#EBF0F8\"},\"line\":{\"color\":\"white\"}},\"header\":{\"fill\":{\"color\":\"#C8D4E3\"},\"line\":{\"color\":\"white\"}},\"type\":\"table\"}],\"barpolar\":[{\"marker\":{\"line\":{\"color\":\"#E5ECF6\",\"width\":0.5},\"pattern\":{\"fillmode\":\"overlay\",\"size\":10,\"solidity\":0.2}},\"type\":\"barpolar\"}],\"pie\":[{\"automargin\":true,\"type\":\"pie\"}]},\"layout\":{\"autotypenumbers\":\"strict\",\"colorway\":[\"#636efa\",\"#EF553B\",\"#00cc96\",\"#ab63fa\",\"#FFA15A\",\"#19d3f3\",\"#FF6692\",\"#B6E880\",\"#FF97FF\",\"#FECB52\"],\"font\":{\"color\":\"#2a3f5f\"},\"hovermode\":\"closest\",\"hoverlabel\":{\"align\":\"left\"},\"paper_bgcolor\":\"white\",\"plot_bgcolor\":\"#E5ECF6\",\"polar\":{\"bgcolor\":\"#E5ECF6\",\"angularaxis\":{\"gridcolor\":\"white\",\"linecolor\":\"white\",\"ticks\":\"\"},\"radialaxis\":{\"gridcolor\":\"white\",\"linecolor\":\"white\",\"ticks\":\"\"}},\"ternary\":{\"bgcolor\":\"#E5ECF6\",\"aaxis\":{\"gridcolor\":\"white\",\"linecolor\":\"white\",\"ticks\":\"\"},\"baxis\":{\"gridcolor\":\"white\",\"linecolor\":\"white\",\"ticks\":\"\"},\"caxis\":{\"gridcolor\":\"white\",\"linecolor\":\"white\",\"ticks\":\"\"}},\"coloraxis\":{\"colorbar\":{\"outlinewidth\":0,\"ticks\":\"\"}},\"colorscale\":{\"sequential\":[[0.0,\"#0d0887\"],[0.1111111111111111,\"#46039f\"],[0.2222222222222222,\"#7201a8\"],[0.3333333333333333,\"#9c179e\"],[0.4444444444444444,\"#bd3786\"],[0.5555555555555556,\"#d8576b\"],[0.6666666666666666,\"#ed7953\"],[0.7777777777777778,\"#fb9f3a\"],[0.8888888888888888,\"#fdca26\"],[1.0,\"#f0f921\"]],\"sequentialminus\":[[0.0,\"#0d0887\"],[0.1111111111111111,\"#46039f\"],[0.2222222222222222,\"#7201a8\"],[0.3333333333333333,\"#9c179e\"],[0.4444444444444444,\"#bd3786\"],[0.5555555555555556,\"#d8576b\"],[0.6666666666666666,\"#ed7953\"],[0.7777777777777778,\"#fb9f3a\"],[0.8888888888888888,\"#fdca26\"],[1.0,\"#f0f921\"]],\"diverging\":[[0,\"#8e0152\"],[0.1,\"#c51b7d\"],[0.2,\"#de77ae\"],[0.3,\"#f1b6da\"],[0.4,\"#fde0ef\"],[0.5,\"#f7f7f7\"],[0.6,\"#e6f5d0\"],[0.7,\"#b8e186\"],[0.8,\"#7fbc41\"],[0.9,\"#4d9221\"],[1,\"#276419\"]]},\"xaxis\":{\"gridcolor\":\"white\",\"linecolor\":\"white\",\"ticks\":\"\",\"title\":{\"standoff\":15},\"zerolinecolor\":\"white\",\"automargin\":true,\"zerolinewidth\":2},\"yaxis\":{\"gridcolor\":\"white\",\"linecolor\":\"white\",\"ticks\":\"\",\"title\":{\"standoff\":15},\"zerolinecolor\":\"white\",\"automargin\":true,\"zerolinewidth\":2},\"scene\":{\"xaxis\":{\"backgroundcolor\":\"#E5ECF6\",\"gridcolor\":\"white\",\"linecolor\":\"white\",\"showbackground\":true,\"ticks\":\"\",\"zerolinecolor\":\"white\",\"gridwidth\":2},\"yaxis\":{\"backgroundcolor\":\"#E5ECF6\",\"gridcolor\":\"white\",\"linecolor\":\"white\",\"showbackground\":true,\"ticks\":\"\",\"zerolinecolor\":\"white\",\"gridwidth\":2},\"zaxis\":{\"backgroundcolor\":\"#E5ECF6\",\"gridcolor\":\"white\",\"linecolor\":\"white\",\"showbackground\":true,\"ticks\":\"\",\"zerolinecolor\":\"white\",\"gridwidth\":2}},\"shapedefaults\":{\"line\":{\"color\":\"#2a3f5f\"}},\"annotationdefaults\":{\"arrowcolor\":\"#2a3f5f\",\"arrowhead\":0,\"arrowwidth\":1},\"geo\":{\"bgcolor\":\"white\",\"landcolor\":\"#E5ECF6\",\"subunitcolor\":\"white\",\"showland\":true,\"showlakes\":true,\"lakecolor\":\"white\"},\"title\":{\"x\":0.05},\"mapbox\":{\"style\":\"light\"}}},\"annotations\":[{\"font\":{\"size\":16},\"showarrow\":false,\"text\":\"1.0\",\"x\":\"Colesterol Total\",\"y\":\"Colesterol Total\"},{\"font\":{\"size\":16},\"showarrow\":false,\"text\":\"0.05\",\"x\":\"Idade\",\"y\":\"Colesterol Total\"},{\"font\":{\"size\":16},\"showarrow\":false,\"text\":\"-0.01\",\"x\":\"Glicemia\",\"y\":\"Colesterol Total\"},{\"font\":{\"size\":16},\"showarrow\":false,\"text\":\"0.33\",\"x\":\"Desfecho\",\"y\":\"Colesterol Total\"},{\"font\":{\"size\":16},\"showarrow\":false,\"text\":\"0.05\",\"x\":\"Colesterol Total\",\"y\":\"Idade\"},{\"font\":{\"size\":16},\"showarrow\":false,\"text\":\"1.0\",\"x\":\"Idade\",\"y\":\"Idade\"},{\"font\":{\"size\":16},\"showarrow\":false,\"text\":\"0.06\",\"x\":\"Glicemia\",\"y\":\"Idade\"},{\"font\":{\"size\":16},\"showarrow\":false,\"text\":\"0.33\",\"x\":\"Desfecho\",\"y\":\"Idade\"},{\"font\":{\"size\":16},\"showarrow\":false,\"text\":\"-0.01\",\"x\":\"Colesterol Total\",\"y\":\"Glicemia\"},{\"font\":{\"size\":16},\"showarrow\":false,\"text\":\"0.06\",\"x\":\"Idade\",\"y\":\"Glicemia\"},{\"font\":{\"size\":16},\"showarrow\":false,\"text\":\"1.0\",\"x\":\"Glicemia\",\"y\":\"Glicemia\"},{\"font\":{\"size\":16},\"showarrow\":false,\"text\":\"0.22\",\"x\":\"Desfecho\",\"y\":\"Glicemia\"},{\"font\":{\"size\":16},\"showarrow\":false,\"text\":\"0.33\",\"x\":\"Colesterol Total\",\"y\":\"Desfecho\"},{\"font\":{\"size\":16},\"showarrow\":false,\"text\":\"0.33\",\"x\":\"Idade\",\"y\":\"Desfecho\"},{\"font\":{\"size\":16},\"showarrow\":false,\"text\":\"0.22\",\"x\":\"Glicemia\",\"y\":\"Desfecho\"},{\"font\":{\"size\":16},\"showarrow\":false,\"text\":\"1.0\",\"x\":\"Desfecho\",\"y\":\"Desfecho\"}],\"xaxis\":{\"tickfont\":{\"size\":14},\"side\":\"top\"},\"yaxis\":{\"tickfont\":{\"size\":14}},\"width\":600,\"height\":600},                        {\"responsive\": true}                    ).then(function(){\n",
       "                            \n",
       "var gd = document.getElementById('ff0db777-3866-4056-857d-aa2bce463113');\n",
       "var x = new MutationObserver(function (mutations, observer) {{\n",
       "        var display = window.getComputedStyle(gd).display;\n",
       "        if (!display || display === 'none') {{\n",
       "            console.log([gd, 'removed!']);\n",
       "            Plotly.purge(gd);\n",
       "            observer.disconnect();\n",
       "        }}\n",
       "}});\n",
       "\n",
       "// Listen for the removal of the full notebook cells\n",
       "var notebookContainer = gd.closest('#notebook-container');\n",
       "if (notebookContainer) {{\n",
       "    x.observe(notebookContainer, {childList: true});\n",
       "}}\n",
       "\n",
       "// Listen for the clearing of the current output cell\n",
       "var outputEl = gd.closest('.output');\n",
       "if (outputEl) {{\n",
       "    x.observe(outputEl, {childList: true});\n",
       "}}\n",
       "\n",
       "                        })                };                });            </script>        </div>"
      ]
     },
     "metadata": {},
     "output_type": "display_data"
    }
   ],
   "source": [
    "# Calcular matriz de correlação\n",
    "correlation_matrix = df.corr()\n",
    "\n",
    "# paleta de cores personalizada \"coolwarm\" usando valores RGB\n",
    "coolwarm_colors = [\n",
    "    [0, 'rgb(58, 76, 192)'],\n",
    "    [0.1, 'rgb(68, 90, 204)'],\n",
    "    [0.2, 'rgb(77, 104, 215)'],\n",
    "    [0.3, 'rgb(86, 117, 225)'],\n",
    "    [0.4, 'rgb(95, 130, 234)'],\n",
    "    [0.5, 'rgb(139, 151, 255)'],\n",
    "    [0.6, 'rgb(198, 184, 241)'],\n",
    "    [0.7, 'rgb(214, 204, 241)'],\n",
    "    [0.8, 'rgb(229, 224, 242)'],\n",
    "    [0.9, 'rgb(245, 245, 245)'],\n",
    "    [1, 'rgb(250, 230, 230)']\n",
    "]\n",
    "\n",
    "# mapa de calor da matriz de correlação usando go.Figure\n",
    "fig = go.Figure(data=go.Heatmap(\n",
    "    z=correlation_matrix.values,\n",
    "    x=correlation_matrix.columns,\n",
    "    y=correlation_matrix.index,\n",
    "    colorscale=coolwarm_colors,\n",
    "    zmin=-1,  # Valor mínimo de correlação\n",
    "    zmax=1,   # Valor máximo de correlação\n",
    "    colorbar=dict(title='Correlação'),\n",
    "\n",
    "))\n",
    "\n",
    "# anotações de valores de correlação\n",
    "for i in range(len(correlation_matrix)):\n",
    "    for j in range(len(correlation_matrix)):\n",
    "        fig.add_annotation(\n",
    "            text=str(correlation_matrix.values[i][j].round(2)),\n",
    "            x=correlation_matrix.columns[j],\n",
    "            y=correlation_matrix.index[i],\n",
    "            showarrow=False,\n",
    "            font=dict(size=16)\n",
    "        )\n",
    "\n",
    "# Personalização do layout\n",
    "fig.update_xaxes(side=\"top\", tickfont=dict(size=14))  # Ajuste o tamanho da fonte do rótulo do eixo x\n",
    "fig.update_yaxes(tickfont=dict(size=14))  # Ajuste o tamanho da fonte do rótulo do eixo y\n",
    "fig.update_layout(\n",
    "    width=600,\n",
    "    height=600\n",
    ")\n",
    "\n",
    "fig.show()\n"
   ]
  },
  {
   "cell_type": "markdown",
   "metadata": {},
   "source": [
    "## Tabela desfecho"
   ]
  },
  {
   "cell_type": "code",
   "execution_count": 45,
   "metadata": {},
   "outputs": [
    {
     "data": {
      "text/html": [
       "<div>\n",
       "<style scoped>\n",
       "    .dataframe tbody tr th:only-of-type {\n",
       "        vertical-align: middle;\n",
       "    }\n",
       "\n",
       "    .dataframe tbody tr th {\n",
       "        vertical-align: top;\n",
       "    }\n",
       "\n",
       "    .dataframe thead th {\n",
       "        text-align: right;\n",
       "    }\n",
       "</style>\n",
       "<table border=\"1\" class=\"dataframe\">\n",
       "  <thead>\n",
       "    <tr style=\"text-align: right;\">\n",
       "      <th></th>\n",
       "      <th>Desfecho</th>\n",
       "      <th>Contagem</th>\n",
       "      <th>Percentual</th>\n",
       "    </tr>\n",
       "  </thead>\n",
       "  <tbody>\n",
       "    <tr>\n",
       "      <th>0</th>\n",
       "      <td>-1</td>\n",
       "      <td>535</td>\n",
       "      <td>66.96%</td>\n",
       "    </tr>\n",
       "    <tr>\n",
       "      <th>1</th>\n",
       "      <td>1</td>\n",
       "      <td>264</td>\n",
       "      <td>33.04%</td>\n",
       "    </tr>\n",
       "  </tbody>\n",
       "</table>\n",
       "</div>"
      ],
      "text/plain": [
       "   Desfecho  Contagem Percentual\n",
       "0        -1       535     66.96%\n",
       "1         1       264     33.04%"
      ]
     },
     "execution_count": 45,
     "metadata": {},
     "output_type": "execute_result"
    }
   ],
   "source": [
    "desfecho_counts = df['Desfecho'].value_counts().reset_index()\n",
    "\n",
    "desfecho_counts.columns = ['Desfecho', 'Contagem']\n",
    "desfecho_counts['Percentual'] = (desfecho_counts['Contagem']/df.shape[0]).apply(lambda x: f'{x:.2%}')\n",
    "desfecho_counts"
   ]
  },
  {
   "cell_type": "markdown",
   "metadata": {},
   "source": [
    "## Separação de dados em treino e teste"
   ]
  },
  {
   "cell_type": "code",
   "execution_count": 46,
   "metadata": {},
   "outputs": [],
   "source": [
    "# Separar as características (X) e a variável de destino (y)\n",
    "X = df.drop(columns=['Desfecho'])  # Features (age, total cholesterol, glucose)\n",
    "y = df['Desfecho']  # Labels (outcome)\n",
    "\n",
    "# Dividir os dados em treino e teste\n",
    "X_train, X_test, y_train, y_test = train_test_split(X, y, test_size=0.2, random_state=1)"
   ]
  },
  {
   "cell_type": "markdown",
   "metadata": {},
   "source": [
    "## Treinamento"
   ]
  },
  {
   "cell_type": "code",
   "execution_count": 47,
   "metadata": {},
   "outputs": [],
   "source": [
    "def train_model(X, y):\n",
    "\n",
    "    # Inicializar padronizador\n",
    "    scaler = StandardScaler()\n",
    "\n",
    "    # Padronizar covariáveis ajustadas aos dados de treino\n",
    "    X = scaler.fit_transform(X)\n",
    "    y = y\n",
    "\n",
    "    # Lista de funções de covariância\n",
    "    kernels = [\n",
    "        (1**2)*RBF(), (1**2)*Matern(), (1**2)*RationalQuadratic()\n",
    "    ]\n",
    "\n",
    "    # Dicionário para realização de GridSearch\n",
    "    param_grid = {\n",
    "        'kernel': kernels,\n",
    "    }\n",
    "\n",
    "    # Inicializar GaussianProcessClassifier\n",
    "    model = GaussianProcessClassifier()\n",
    "\n",
    "    # Inicializar validação cruzada\n",
    "    cv = KFold(n_splits=5, shuffle=True, random_state=0)\n",
    "\n",
    "    # Initializar GridSearch\n",
    "    grid_search = GridSearchCV(estimator=model, param_grid=param_grid, cv=cv, scoring='accuracy')\n",
    "\n",
    "    # Ajustar GridSearch aos dados\n",
    "    grid_search.fit(X, y)\n",
    "\n",
    "    cv_results = pd.DataFrame(grid_search.cv_results_)\n",
    "\n",
    "    # Selecionar melhor modelo\n",
    "    melhor_modelo = grid_search.best_estimator_\n",
    "\n",
    "    # Retreinar usando todos os dados de treino\n",
    "    melhor_modelo.fit(X,y)\n",
    "\n",
    "    return melhor_modelo, cv_results, scaler"
   ]
  },
  {
   "cell_type": "code",
   "execution_count": 48,
   "metadata": {},
   "outputs": [],
   "source": [
    "melhor_modelo, cv_results, scaler = train_model(X_train, y_train)"
   ]
  },
  {
   "cell_type": "markdown",
   "metadata": {},
   "source": [
    "## Função de covariância otimizada"
   ]
  },
  {
   "cell_type": "code",
   "execution_count": 49,
   "metadata": {},
   "outputs": [
    {
     "data": {
      "text/plain": [
       "2.25**2 * Matern(length_scale=4.47, nu=1.5)"
      ]
     },
     "execution_count": 49,
     "metadata": {},
     "output_type": "execute_result"
    }
   ],
   "source": [
    "melhor_modelo.kernel_"
   ]
  },
  {
   "cell_type": "markdown",
   "metadata": {},
   "source": [
    "## Resultados por split da validação cruzada"
   ]
  },
  {
   "cell_type": "code",
   "execution_count": 50,
   "metadata": {},
   "outputs": [
    {
     "data": {
      "text/html": [
       "<div>\n",
       "<style scoped>\n",
       "    .dataframe tbody tr th:only-of-type {\n",
       "        vertical-align: middle;\n",
       "    }\n",
       "\n",
       "    .dataframe tbody tr th {\n",
       "        vertical-align: top;\n",
       "    }\n",
       "\n",
       "    .dataframe thead th {\n",
       "        text-align: right;\n",
       "    }\n",
       "</style>\n",
       "<table border=\"1\" class=\"dataframe\">\n",
       "  <thead>\n",
       "    <tr style=\"text-align: right;\">\n",
       "      <th></th>\n",
       "      <th>mean_fit_time</th>\n",
       "      <th>std_fit_time</th>\n",
       "      <th>mean_score_time</th>\n",
       "      <th>std_score_time</th>\n",
       "      <th>param_kernel</th>\n",
       "      <th>params</th>\n",
       "      <th>split0_test_score</th>\n",
       "      <th>split1_test_score</th>\n",
       "      <th>split2_test_score</th>\n",
       "      <th>split3_test_score</th>\n",
       "      <th>split4_test_score</th>\n",
       "      <th>mean_test_score</th>\n",
       "      <th>std_test_score</th>\n",
       "      <th>rank_test_score</th>\n",
       "    </tr>\n",
       "  </thead>\n",
       "  <tbody>\n",
       "    <tr>\n",
       "      <th>0</th>\n",
       "      <td>2.484973</td>\n",
       "      <td>0.510956</td>\n",
       "      <td>0.001402</td>\n",
       "      <td>0.001717</td>\n",
       "      <td>1**2 * RBF(length_scale=1)</td>\n",
       "      <td>{'kernel': 1**2 * RBF(length_scale=1)}</td>\n",
       "      <td>0.820312</td>\n",
       "      <td>0.718750</td>\n",
       "      <td>0.750000</td>\n",
       "      <td>0.757812</td>\n",
       "      <td>0.724409</td>\n",
       "      <td>0.754257</td>\n",
       "      <td>0.036182</td>\n",
       "      <td>2</td>\n",
       "    </tr>\n",
       "    <tr>\n",
       "      <th>1</th>\n",
       "      <td>2.629792</td>\n",
       "      <td>0.206779</td>\n",
       "      <td>0.006057</td>\n",
       "      <td>0.003611</td>\n",
       "      <td>1**2 * Matern(length_scale=1, nu=1.5)</td>\n",
       "      <td>{'kernel': 1**2 * Matern(length_scale=1, nu=1.5)}</td>\n",
       "      <td>0.820312</td>\n",
       "      <td>0.726562</td>\n",
       "      <td>0.742188</td>\n",
       "      <td>0.765625</td>\n",
       "      <td>0.732283</td>\n",
       "      <td>0.757394</td>\n",
       "      <td>0.034173</td>\n",
       "      <td>1</td>\n",
       "    </tr>\n",
       "    <tr>\n",
       "      <th>2</th>\n",
       "      <td>7.400284</td>\n",
       "      <td>0.786450</td>\n",
       "      <td>0.006075</td>\n",
       "      <td>0.003221</td>\n",
       "      <td>1**2 * RationalQuadratic(alpha=1, length_scale=1)</td>\n",
       "      <td>{'kernel': 1**2 * RationalQuadratic(alpha=1, l...</td>\n",
       "      <td>0.820312</td>\n",
       "      <td>0.718750</td>\n",
       "      <td>0.750000</td>\n",
       "      <td>0.757812</td>\n",
       "      <td>0.724409</td>\n",
       "      <td>0.754257</td>\n",
       "      <td>0.036182</td>\n",
       "      <td>2</td>\n",
       "    </tr>\n",
       "  </tbody>\n",
       "</table>\n",
       "</div>"
      ],
      "text/plain": [
       "   mean_fit_time  std_fit_time  mean_score_time  std_score_time   \n",
       "0       2.484973      0.510956         0.001402        0.001717  \\\n",
       "1       2.629792      0.206779         0.006057        0.003611   \n",
       "2       7.400284      0.786450         0.006075        0.003221   \n",
       "\n",
       "                                        param_kernel   \n",
       "0                         1**2 * RBF(length_scale=1)  \\\n",
       "1              1**2 * Matern(length_scale=1, nu=1.5)   \n",
       "2  1**2 * RationalQuadratic(alpha=1, length_scale=1)   \n",
       "\n",
       "                                              params  split0_test_score   \n",
       "0             {'kernel': 1**2 * RBF(length_scale=1)}           0.820312  \\\n",
       "1  {'kernel': 1**2 * Matern(length_scale=1, nu=1.5)}           0.820312   \n",
       "2  {'kernel': 1**2 * RationalQuadratic(alpha=1, l...           0.820312   \n",
       "\n",
       "   split1_test_score  split2_test_score  split3_test_score  split4_test_score   \n",
       "0           0.718750           0.750000           0.757812           0.724409  \\\n",
       "1           0.726562           0.742188           0.765625           0.732283   \n",
       "2           0.718750           0.750000           0.757812           0.724409   \n",
       "\n",
       "   mean_test_score  std_test_score  rank_test_score  \n",
       "0         0.754257        0.036182                2  \n",
       "1         0.757394        0.034173                1  \n",
       "2         0.754257        0.036182                2  "
      ]
     },
     "execution_count": 50,
     "metadata": {},
     "output_type": "execute_result"
    }
   ],
   "source": [
    "cv_results"
   ]
  },
  {
   "cell_type": "code",
   "execution_count": 51,
   "metadata": {},
   "outputs": [
    {
     "data": {
      "text/html": [
       "<div>\n",
       "<style scoped>\n",
       "    .dataframe tbody tr th:only-of-type {\n",
       "        vertical-align: middle;\n",
       "    }\n",
       "\n",
       "    .dataframe tbody tr th {\n",
       "        vertical-align: top;\n",
       "    }\n",
       "\n",
       "    .dataframe thead th {\n",
       "        text-align: right;\n",
       "    }\n",
       "</style>\n",
       "<table border=\"1\" class=\"dataframe\">\n",
       "  <thead>\n",
       "    <tr style=\"text-align: right;\">\n",
       "      <th></th>\n",
       "      <th>params</th>\n",
       "      <th>split0_test_score</th>\n",
       "      <th>split1_test_score</th>\n",
       "      <th>split2_test_score</th>\n",
       "      <th>split3_test_score</th>\n",
       "      <th>split4_test_score</th>\n",
       "      <th>mean_test_score</th>\n",
       "      <th>std_test_score</th>\n",
       "    </tr>\n",
       "  </thead>\n",
       "  <tbody>\n",
       "    <tr>\n",
       "      <th>0</th>\n",
       "      <td>{'kernel': 1**2 * RBF(length_scale=1)}</td>\n",
       "      <td>0.820312</td>\n",
       "      <td>0.718750</td>\n",
       "      <td>0.750000</td>\n",
       "      <td>0.757812</td>\n",
       "      <td>0.724409</td>\n",
       "      <td>0.754</td>\n",
       "      <td>0.036</td>\n",
       "    </tr>\n",
       "    <tr>\n",
       "      <th>1</th>\n",
       "      <td>{'kernel': 1**2 * Matern(length_scale=1, nu=1.5)}</td>\n",
       "      <td>0.820312</td>\n",
       "      <td>0.726562</td>\n",
       "      <td>0.742188</td>\n",
       "      <td>0.765625</td>\n",
       "      <td>0.732283</td>\n",
       "      <td>0.757</td>\n",
       "      <td>0.034</td>\n",
       "    </tr>\n",
       "    <tr>\n",
       "      <th>2</th>\n",
       "      <td>{'kernel': 1**2 * RationalQuadratic(alpha=1, l...</td>\n",
       "      <td>0.820312</td>\n",
       "      <td>0.718750</td>\n",
       "      <td>0.750000</td>\n",
       "      <td>0.757812</td>\n",
       "      <td>0.724409</td>\n",
       "      <td>0.754</td>\n",
       "      <td>0.036</td>\n",
       "    </tr>\n",
       "  </tbody>\n",
       "</table>\n",
       "</div>"
      ],
      "text/plain": [
       "                                              params  split0_test_score   \n",
       "0             {'kernel': 1**2 * RBF(length_scale=1)}           0.820312  \\\n",
       "1  {'kernel': 1**2 * Matern(length_scale=1, nu=1.5)}           0.820312   \n",
       "2  {'kernel': 1**2 * RationalQuadratic(alpha=1, l...           0.820312   \n",
       "\n",
       "   split1_test_score  split2_test_score  split3_test_score  split4_test_score   \n",
       "0           0.718750           0.750000           0.757812           0.724409  \\\n",
       "1           0.726562           0.742188           0.765625           0.732283   \n",
       "2           0.718750           0.750000           0.757812           0.724409   \n",
       "\n",
       "   mean_test_score  std_test_score  \n",
       "0            0.754           0.036  \n",
       "1            0.757           0.034  \n",
       "2            0.754           0.036  "
      ]
     },
     "execution_count": 51,
     "metadata": {},
     "output_type": "execute_result"
    }
   ],
   "source": [
    "cv_results['mean_test_score'] = cv_results['mean_test_score'].round(3)\n",
    "cv_results['std_test_score'] = cv_results['std_test_score'].round(3)\n",
    "\n",
    "cv_results.iloc[:,5:13]"
   ]
  },
  {
   "cell_type": "markdown",
   "metadata": {},
   "source": [
    "## Teste"
   ]
  },
  {
   "cell_type": "code",
   "execution_count": 52,
   "metadata": {},
   "outputs": [],
   "source": [
    "def test_model(model, X, y, scaler=scaler, prob = 0.5):\n",
    "    # Apply the same transformation to the test data\n",
    "    X_test = scaler.transform(X)\n",
    "\n",
    "    # Make predictions on the test data\n",
    "    y_pred = model.predict_proba(X_test)[:,1]\n",
    "    y_pred_texto = np.where(y_pred > prob, 'infartou', 'não infartou')\n",
    "    # Generate a classification report\n",
    "    y_texto = np.where(y == 1, 'infartou', 'não infartou')\n",
    "    class_report = classification_report(y_texto, y_pred_texto)\n",
    "\n",
    "    # Print the classification report\n",
    "    print(\"Classification Report:\")\n",
    "    print(class_report)\n"
   ]
  },
  {
   "cell_type": "code",
   "execution_count": 53,
   "metadata": {},
   "outputs": [
    {
     "name": "stdout",
     "output_type": "stream",
     "text": [
      "Classification Report:\n",
      "              precision    recall  f1-score   support\n",
      "\n",
      "    infartou       0.77      0.47      0.58        58\n",
      "não infartou       0.75      0.92      0.83       102\n",
      "\n",
      "    accuracy                           0.76       160\n",
      "   macro avg       0.76      0.69      0.70       160\n",
      "weighted avg       0.76      0.76      0.74       160\n",
      "\n"
     ]
    }
   ],
   "source": [
    "test_model(melhor_modelo, X_test, y_test) # scaler = scaler, prob = 0.5"
   ]
  },
  {
   "cell_type": "code",
   "execution_count": 54,
   "metadata": {},
   "outputs": [
    {
     "name": "stdout",
     "output_type": "stream",
     "text": [
      "Classification Report:\n",
      "              precision    recall  f1-score   support\n",
      "\n",
      "    infartou       0.65      0.76      0.70        58\n",
      "não infartou       0.85      0.76      0.80       102\n",
      "\n",
      "    accuracy                           0.76       160\n",
      "   macro avg       0.75      0.76      0.75       160\n",
      "weighted avg       0.78      0.76      0.77       160\n",
      "\n"
     ]
    }
   ],
   "source": [
    "test_model(melhor_modelo, X_test, y_test, prob = 0.3) # scaler = scaler"
   ]
  },
  {
   "cell_type": "code",
   "execution_count": 55,
   "metadata": {},
   "outputs": [
    {
     "name": "stdout",
     "output_type": "stream",
     "text": [
      "Classification Report:\n",
      "              precision    recall  f1-score   support\n",
      "\n",
      "    infartou       0.89      0.28      0.42        58\n",
      "não infartou       0.70      0.98      0.82       102\n",
      "\n",
      "    accuracy                           0.73       160\n",
      "   macro avg       0.80      0.63      0.62       160\n",
      "weighted avg       0.77      0.72      0.68       160\n",
      "\n"
     ]
    }
   ],
   "source": [
    "test_model(melhor_modelo, X_test, y_test, prob = 0.7) # scaler = scaler"
   ]
  },
  {
   "cell_type": "markdown",
   "metadata": {},
   "source": [
    "## Curvas de probabilidade preditiva a posteriori"
   ]
  },
  {
   "cell_type": "code",
   "execution_count": 56,
   "metadata": {},
   "outputs": [],
   "source": [
    "# Create a meshgrid for visualization\n",
    "x_min, x_max = X.iloc[:, 0].min() - 1, X.iloc[:, 0].max() + 1\n",
    "y_min, y_max = X.iloc[:, 1].min() - 1, X.iloc[:, 1].max() + 1\n",
    "z_min, z_max = X.iloc[:, 2].min() - 1, X.iloc[:, 2].max() + 1"
   ]
  },
  {
   "cell_type": "code",
   "execution_count": 64,
   "metadata": {},
   "outputs": [
    {
     "data": {
      "image/png": "[encoded data removed]",
      "text/plain": [
       "<Figure size 2000x600 with 4 Axes>"
      ]
     },
     "metadata": {},
     "output_type": "display_data"
    }
   ],
   "source": [
    "# Create a figure and a gridspec layout\n",
    "fig = plt.figure(figsize=(20, 6))\n",
    "gs = gridspec.GridSpec(1, 4, width_ratios=[1, 1, 1, 0.05]) \n",
    "\n",
    "# Create subplots within the gridspec layout\n",
    "axs = [plt.subplot(gs[i]) for i in range(3)]\n",
    "\n",
    "# Create colorbar subplot\n",
    "cax = plt.subplot(gs[3])\n",
    "\n",
    "for i in range(3):\n",
    "    if i == 0:\n",
    "        xx, yy, zz = np.meshgrid(np.arange(x_min, x_max, 1), np.arange(y_min, y_max, 1), X_test.iloc[:,2].mode())\n",
    "        grid_points = np.c_[xx.ravel(), yy.ravel(), zz.ravel()]\n",
    "    elif i == 1:\n",
    "        xx, yy, zz = np.meshgrid(np.arange(x_min, x_max, 1), np.arange(z_min, z_max, 1), X_test.iloc[:,1].mode())\n",
    "        grid_points = np.c_[xx.ravel(), zz.ravel(), yy.ravel()]\n",
    "    else:\n",
    "        xx, yy, zz = np.meshgrid(np.arange(y_min, y_max, 1), np.arange(z_min, z_max, 1), X_test.iloc[:,0].mode())\n",
    "        grid_points = np.c_[zz.ravel(), xx.ravel(), yy.ravel()]\n",
    "\n",
    "    # Get predicted probabilities\n",
    "    probs = melhor_modelo.predict_proba(scaler.transform(grid_points))[:, 1] #índice 0 desfecho = -1, índice 1 desfecho = 1\n",
    "    probs = probs.reshape(xx.shape)\n",
    "\n",
    "    if i == 0:\n",
    "        contour = axs[0].contourf(xx[:, :, 0], yy[:, :, 0], probs[:, :, 0], levels=np.linspace(0, 1, 21), cmap=plt.cm.coolwarm, alpha=0.9)\n",
    "        x_plot = X_test.loc[X_test.iloc[:, 2] == X_test.iloc[:, 2].mode().iloc[0]]\n",
    "        axs[i].scatter(x_plot.iloc[:, 0], x_plot.iloc[:, 1], c=y_test[x_plot.index], cmap=plt.cm.coolwarm, edgecolor='k')\n",
    "        axs[i].set_xlabel(x_plot.columns[0], fontsize=12)\n",
    "        axs[i].set_ylabel(x_plot.columns[1], fontsize=12)\n",
    "        axs[i].set_title(f\"{x_plot.columns[2]} = {X_test.iloc[:, 2].mode().iloc[0]} mg/dL\", fontsize=16)\n",
    "        axs[i].text(0.5, -0.15, \"(a)\", transform=axs[i].transAxes, fontsize=14, weight='bold')\n",
    "\n",
    "    if i == 1:\n",
    "        contour = axs[1].contourf(xx[:, :, 0], yy[:, :, 0], probs[:, :, 0], levels=np.linspace(0, 1, 21), cmap=plt.cm.coolwarm, alpha=0.9)\n",
    "        x_plot = X_test.loc[X_test.iloc[:, 1] == X_test.iloc[:, 1].mode().iloc[0]]\n",
    "        axs[i].scatter(x_plot.iloc[:, 0], x_plot.iloc[:, 2], c=y_test[x_plot.index], cmap=plt.cm.coolwarm, edgecolor='k')\n",
    "        axs[i].set_xlabel(x_plot.columns[0], fontsize=12)\n",
    "        axs[i].set_ylabel(x_plot.columns[2], fontsize=12)\n",
    "        axs[i].set_title(f\"{X_test.columns[1]} = {X_test.iloc[:, 1].mode().iloc[0]} anos\", fontsize=16)\n",
    "        axs[i].text(0.5, -0.15, \"(b)\", transform=axs[i].transAxes, fontsize=14, weight='bold')\n",
    "\n",
    "    elif i == 2:\n",
    "        contour = axs[2].contourf(xx[:, :, 0], yy[:, :, 0], probs[:, :, 0], levels=np.linspace(0, 1, 21), cmap=plt.cm.coolwarm, alpha=0.9)\n",
    "        x_plot = X_test.loc[X_test.iloc[:, 0] == X_test.iloc[:, 0].mode().iloc[0]]\n",
    "        axs[i].scatter(x_plot.iloc[:, 1], x_plot.iloc[:, 2], c=y_test[x_plot.index], cmap=plt.cm.coolwarm, edgecolor='k')\n",
    "        axs[i].set_xlabel(x_plot.columns[1], fontsize=12)\n",
    "        axs[i].set_ylabel(x_plot.columns[2], fontsize=12)\n",
    "        axs[i].set_title(f\"{X_test.columns[0]} = {X_test.iloc[:, 0].mode().iloc[0]} mg/dL\", fontsize=16)\n",
    "        axs[i].text(0.5, -0.15, \"(c)\", transform=axs[i].transAxes, fontsize=12, weight='bold')\n",
    "\n",
    "cbar = fig.colorbar(contour, cax=cax, label='Probabilidade de infarto')\n",
    "cbar.set_label('Probabilidade de infarto', fontsize=12)\n",
    "\n",
    "# Display the subplot\n",
    "plt.show()"
   ]
  },
  {
   "cell_type": "markdown",
   "metadata": {},
   "source": [
    "## Checando resultados da visualização"
   ]
  },
  {
   "cell_type": "code",
   "execution_count": 79,
   "metadata": {},
   "outputs": [],
   "source": [
    "plot_1 = X_test.loc[X_test['Glicemia'] == 87]\n",
    "plot_2 = X_test.loc[X_test['Idade'] == 40]\n",
    "plot_3 = X_test.loc[X_test['Colesterol Total'] == 241]"
   ]
  },
  {
   "cell_type": "markdown",
   "metadata": {},
   "source": [
    "### Caso 1: Glicemia = 87"
   ]
  },
  {
   "cell_type": "code",
   "execution_count": 75,
   "metadata": {},
   "outputs": [
    {
     "data": {
      "text/html": [
       "<div>\n",
       "<style scoped>\n",
       "    .dataframe tbody tr th:only-of-type {\n",
       "        vertical-align: middle;\n",
       "    }\n",
       "\n",
       "    .dataframe tbody tr th {\n",
       "        vertical-align: top;\n",
       "    }\n",
       "\n",
       "    .dataframe thead th {\n",
       "        text-align: right;\n",
       "    }\n",
       "</style>\n",
       "<table border=\"1\" class=\"dataframe\">\n",
       "  <thead>\n",
       "    <tr style=\"text-align: right;\">\n",
       "      <th></th>\n",
       "      <th>Colesterol Total</th>\n",
       "      <th>Idade</th>\n",
       "      <th>Glicemia</th>\n",
       "      <th>Desfecho</th>\n",
       "      <th>prob</th>\n",
       "    </tr>\n",
       "  </thead>\n",
       "  <tbody>\n",
       "    <tr>\n",
       "      <th>370</th>\n",
       "      <td>258</td>\n",
       "      <td>39</td>\n",
       "      <td>87</td>\n",
       "      <td>-1</td>\n",
       "      <td>0.437375</td>\n",
       "    </tr>\n",
       "    <tr>\n",
       "      <th>81</th>\n",
       "      <td>165</td>\n",
       "      <td>63</td>\n",
       "      <td>87</td>\n",
       "      <td>-1</td>\n",
       "      <td>0.130349</td>\n",
       "    </tr>\n",
       "    <tr>\n",
       "      <th>531</th>\n",
       "      <td>188</td>\n",
       "      <td>32</td>\n",
       "      <td>87</td>\n",
       "      <td>-1</td>\n",
       "      <td>0.048553</td>\n",
       "    </tr>\n",
       "    <tr>\n",
       "      <th>262</th>\n",
       "      <td>163</td>\n",
       "      <td>40</td>\n",
       "      <td>87</td>\n",
       "      <td>-1</td>\n",
       "      <td>0.050716</td>\n",
       "    </tr>\n",
       "    <tr>\n",
       "      <th>555</th>\n",
       "      <td>168</td>\n",
       "      <td>33</td>\n",
       "      <td>87</td>\n",
       "      <td>-1</td>\n",
       "      <td>0.041017</td>\n",
       "    </tr>\n",
       "    <tr>\n",
       "      <th>339</th>\n",
       "      <td>238</td>\n",
       "      <td>61</td>\n",
       "      <td>87</td>\n",
       "      <td>-1</td>\n",
       "      <td>0.515020</td>\n",
       "    </tr>\n",
       "    <tr>\n",
       "      <th>414</th>\n",
       "      <td>249</td>\n",
       "      <td>30</td>\n",
       "      <td>87</td>\n",
       "      <td>-1</td>\n",
       "      <td>0.225104</td>\n",
       "    </tr>\n",
       "    <tr>\n",
       "      <th>223</th>\n",
       "      <td>242</td>\n",
       "      <td>30</td>\n",
       "      <td>87</td>\n",
       "      <td>-1</td>\n",
       "      <td>0.180605</td>\n",
       "    </tr>\n",
       "    <tr>\n",
       "      <th>358</th>\n",
       "      <td>249</td>\n",
       "      <td>78</td>\n",
       "      <td>87</td>\n",
       "      <td>1</td>\n",
       "      <td>0.636073</td>\n",
       "    </tr>\n",
       "  </tbody>\n",
       "</table>\n",
       "</div>"
      ],
      "text/plain": [
       "     Colesterol Total  Idade  Glicemia  Desfecho      prob\n",
       "370               258     39        87        -1  0.437375\n",
       "81                165     63        87        -1  0.130349\n",
       "531               188     32        87        -1  0.048553\n",
       "262               163     40        87        -1  0.050716\n",
       "555               168     33        87        -1  0.041017\n",
       "339               238     61        87        -1  0.515020\n",
       "414               249     30        87        -1  0.225104\n",
       "223               242     30        87        -1  0.180605\n",
       "358               249     78        87         1  0.636073"
      ]
     },
     "execution_count": 75,
     "metadata": {},
     "output_type": "execute_result"
    }
   ],
   "source": [
    "plot_1 = plot_1.merge(y_test.loc[X_test['Glicemia'] == 87], left_index=True, right_index=True, how='left')\n",
    "plot_1['prob'] = melhor_modelo.predict_proba(np.array(scaler.transform(plot_1.iloc[:, :3])))[:, 1]\n",
    "plot_1"
   ]
  },
  {
   "cell_type": "markdown",
   "metadata": {},
   "source": [
    "### Caso 2: Idade = 40"
   ]
  },
  {
   "cell_type": "code",
   "execution_count": 76,
   "metadata": {},
   "outputs": [
    {
     "data": {
      "text/html": [
       "<div>\n",
       "<style scoped>\n",
       "    .dataframe tbody tr th:only-of-type {\n",
       "        vertical-align: middle;\n",
       "    }\n",
       "\n",
       "    .dataframe tbody tr th {\n",
       "        vertical-align: top;\n",
       "    }\n",
       "\n",
       "    .dataframe thead th {\n",
       "        text-align: right;\n",
       "    }\n",
       "</style>\n",
       "<table border=\"1\" class=\"dataframe\">\n",
       "  <thead>\n",
       "    <tr style=\"text-align: right;\">\n",
       "      <th></th>\n",
       "      <th>Colesterol Total</th>\n",
       "      <th>Idade</th>\n",
       "      <th>Glicemia</th>\n",
       "      <th>Desfecho</th>\n",
       "      <th>prob</th>\n",
       "    </tr>\n",
       "  </thead>\n",
       "  <tbody>\n",
       "    <tr>\n",
       "      <th>262</th>\n",
       "      <td>163</td>\n",
       "      <td>40</td>\n",
       "      <td>87</td>\n",
       "      <td>-1</td>\n",
       "      <td>0.050716</td>\n",
       "    </tr>\n",
       "    <tr>\n",
       "      <th>241</th>\n",
       "      <td>239</td>\n",
       "      <td>40</td>\n",
       "      <td>104</td>\n",
       "      <td>1</td>\n",
       "      <td>0.333766</td>\n",
       "    </tr>\n",
       "    <tr>\n",
       "      <th>50</th>\n",
       "      <td>188</td>\n",
       "      <td>40</td>\n",
       "      <td>77</td>\n",
       "      <td>-1</td>\n",
       "      <td>0.076212</td>\n",
       "    </tr>\n",
       "    <tr>\n",
       "      <th>708</th>\n",
       "      <td>178</td>\n",
       "      <td>40</td>\n",
       "      <td>96</td>\n",
       "      <td>-1</td>\n",
       "      <td>0.057624</td>\n",
       "    </tr>\n",
       "    <tr>\n",
       "      <th>57</th>\n",
       "      <td>184</td>\n",
       "      <td>40</td>\n",
       "      <td>90</td>\n",
       "      <td>-1</td>\n",
       "      <td>0.063768</td>\n",
       "    </tr>\n",
       "    <tr>\n",
       "      <th>780</th>\n",
       "      <td>185</td>\n",
       "      <td>40</td>\n",
       "      <td>149</td>\n",
       "      <td>1</td>\n",
       "      <td>0.196237</td>\n",
       "    </tr>\n",
       "    <tr>\n",
       "      <th>696</th>\n",
       "      <td>172</td>\n",
       "      <td>40</td>\n",
       "      <td>147</td>\n",
       "      <td>-1</td>\n",
       "      <td>0.158832</td>\n",
       "    </tr>\n",
       "  </tbody>\n",
       "</table>\n",
       "</div>"
      ],
      "text/plain": [
       "     Colesterol Total  Idade  Glicemia  Desfecho      prob\n",
       "262               163     40        87        -1  0.050716\n",
       "241               239     40       104         1  0.333766\n",
       "50                188     40        77        -1  0.076212\n",
       "708               178     40        96        -1  0.057624\n",
       "57                184     40        90        -1  0.063768\n",
       "780               185     40       149         1  0.196237\n",
       "696               172     40       147        -1  0.158832"
      ]
     },
     "execution_count": 76,
     "metadata": {},
     "output_type": "execute_result"
    }
   ],
   "source": [
    "plot_2 = plot_2.merge(y_test.loc[X_test['Idade'] == 40], left_index=True, right_index=True, how='left')\n",
    "plot_2['prob'] = melhor_modelo.predict_proba(np.array(scaler.transform(plot_2.iloc[:, :3])))[:, 1]\n",
    "plot_2"
   ]
  },
  {
   "cell_type": "markdown",
   "metadata": {},
   "source": [
    "### Caso 3: Colesterol total = 241"
   ]
  },
  {
   "cell_type": "code",
   "execution_count": 80,
   "metadata": {},
   "outputs": [
    {
     "data": {
      "text/html": [
       "<div>\n",
       "<style scoped>\n",
       "    .dataframe tbody tr th:only-of-type {\n",
       "        vertical-align: middle;\n",
       "    }\n",
       "\n",
       "    .dataframe tbody tr th {\n",
       "        vertical-align: top;\n",
       "    }\n",
       "\n",
       "    .dataframe thead th {\n",
       "        text-align: right;\n",
       "    }\n",
       "</style>\n",
       "<table border=\"1\" class=\"dataframe\">\n",
       "  <thead>\n",
       "    <tr style=\"text-align: right;\">\n",
       "      <th></th>\n",
       "      <th>Colesterol Total</th>\n",
       "      <th>Idade</th>\n",
       "      <th>Glicemia</th>\n",
       "      <th>Desfecho</th>\n",
       "      <th>prob</th>\n",
       "    </tr>\n",
       "  </thead>\n",
       "  <tbody>\n",
       "    <tr>\n",
       "      <th>539</th>\n",
       "      <td>241</td>\n",
       "      <td>49</td>\n",
       "      <td>151</td>\n",
       "      <td>1</td>\n",
       "      <td>0.699278</td>\n",
       "    </tr>\n",
       "    <tr>\n",
       "      <th>725</th>\n",
       "      <td>241</td>\n",
       "      <td>28</td>\n",
       "      <td>136</td>\n",
       "      <td>-1</td>\n",
       "      <td>0.309610</td>\n",
       "    </tr>\n",
       "    <tr>\n",
       "      <th>194</th>\n",
       "      <td>241</td>\n",
       "      <td>60</td>\n",
       "      <td>98</td>\n",
       "      <td>1</td>\n",
       "      <td>0.569032</td>\n",
       "    </tr>\n",
       "    <tr>\n",
       "      <th>101</th>\n",
       "      <td>241</td>\n",
       "      <td>41</td>\n",
       "      <td>89</td>\n",
       "      <td>1</td>\n",
       "      <td>0.325468</td>\n",
       "    </tr>\n",
       "    <tr>\n",
       "      <th>488</th>\n",
       "      <td>241</td>\n",
       "      <td>38</td>\n",
       "      <td>102</td>\n",
       "      <td>-1</td>\n",
       "      <td>0.318098</td>\n",
       "    </tr>\n",
       "    <tr>\n",
       "      <th>59</th>\n",
       "      <td>241</td>\n",
       "      <td>19</td>\n",
       "      <td>70</td>\n",
       "      <td>-1</td>\n",
       "      <td>0.101144</td>\n",
       "    </tr>\n",
       "    <tr>\n",
       "      <th>3</th>\n",
       "      <td>241</td>\n",
       "      <td>50</td>\n",
       "      <td>123</td>\n",
       "      <td>-1</td>\n",
       "      <td>0.582956</td>\n",
       "    </tr>\n",
       "    <tr>\n",
       "      <th>375</th>\n",
       "      <td>241</td>\n",
       "      <td>27</td>\n",
       "      <td>94</td>\n",
       "      <td>-1</td>\n",
       "      <td>0.158560</td>\n",
       "    </tr>\n",
       "    <tr>\n",
       "      <th>467</th>\n",
       "      <td>241</td>\n",
       "      <td>41</td>\n",
       "      <td>162</td>\n",
       "      <td>1</td>\n",
       "      <td>0.645333</td>\n",
       "    </tr>\n",
       "  </tbody>\n",
       "</table>\n",
       "</div>"
      ],
      "text/plain": [
       "     Colesterol Total  Idade  Glicemia  Desfecho      prob\n",
       "539               241     49       151         1  0.699278\n",
       "725               241     28       136        -1  0.309610\n",
       "194               241     60        98         1  0.569032\n",
       "101               241     41        89         1  0.325468\n",
       "488               241     38       102        -1  0.318098\n",
       "59                241     19        70        -1  0.101144\n",
       "3                 241     50       123        -1  0.582956\n",
       "375               241     27        94        -1  0.158560\n",
       "467               241     41       162         1  0.645333"
      ]
     },
     "execution_count": 80,
     "metadata": {},
     "output_type": "execute_result"
    }
   ],
   "source": [
    "plot_3 = plot_3.merge(y_test.loc[X_test['Colesterol Total'] == 241], left_index=True, right_index=True, how='left')\n",
    "plot_3['prob'] = melhor_modelo.predict_proba(np.array(scaler.transform(plot_3.iloc[:, :3])))[:, 1]\n",
    "plot_3"
   ]
  },
  {
   "cell_type": "markdown",
   "metadata": {},
   "source": [
    "## Matriz de confusão"
   ]
  },
  {
   "cell_type": "code",
   "execution_count": 62,
   "metadata": {},
   "outputs": [],
   "source": [
    "def cm_analysis(y_true_list, y_pred_list, labels, titulos = ['Matriz de confusão'], ymap=None, figsize=(10, 10)):\n",
    "    \"\"\"\n",
    "    Generate matrix plot of confusion matrix with pretty annotations.\n",
    "    The plot image is saved to disk.\n",
    "    args: \n",
    "      y_true_list:    List of true labels, each with shape (nsamples,)\n",
    "      y_pred_list:    List of predictions, each with shape (nsamples,)\n",
    "      labels:    string array, name the order of class labels in the confusion matrix.\n",
    "                 use `clf.classes_` if using scikit-learn models.\n",
    "                 with shape (nclass,).\n",
    "      ymap:      dict: any -> string, length == nclass.\n",
    "                 if not None, map the labels & ys to more understandable strings.\n",
    "                 Caution: original y_true, y_pred, and labels must align.\n",
    "      figsize:   the size of the figure plotted.\n",
    "    \"\"\"\n",
    "    if isinstance(y_true_list, list):\n",
    "        num_plots = len(y_true_list)\n",
    "    else:\n",
    "        num_plots = 1\n",
    "        y_true_list = [y_true_list]\n",
    "        y_pred_list = [y_pred_list]\n",
    "\n",
    "    if ymap is not None:\n",
    "        # Change category codes or labels to new labels \n",
    "        y_pred_list = [[ymap[yi] for yi in y_pred] for y_pred in y_pred_list]\n",
    "        y_true_list = [[ymap[yi] for yi in y_true] for y_true in y_true_list]\n",
    "        labels = [ymap[yi] for yi in labels]\n",
    "\n",
    "    # Create subplots based on the number of plots\n",
    "    if num_plots == 1:\n",
    "        fig, ax = plt.subplots(figsize=figsize)\n",
    "        axes = [ax]\n",
    "    else:\n",
    "        fig, axes = plt.subplots(1, num_plots, figsize=(figsize[0] * num_plots, figsize[1]))\n",
    "\n",
    "    for i in range(num_plots):\n",
    "        # Calculate a confusion matrix with the new labels\n",
    "        cm = confusion_matrix(y_true_list[i], y_pred_list[i], labels=labels)\n",
    "        # Calculate row sums (for calculating % & plot annotations)\n",
    "        cm_sum = np.sum(cm, axis=1, keepdims=True)\n",
    "        # Calculate proportions\n",
    "        cm_perc = cm / cm_sum.astype(float) * 100\n",
    "        # Empty array for holding annotations for each cell in the heatmap\n",
    "        annot = np.empty_like(cm).astype(str)\n",
    "        # Get the dimensions\n",
    "        nrows, ncols = cm.shape\n",
    "        # Cycle over cells and create annotations for each cell\n",
    "        for j in range(nrows):\n",
    "            for k in range(ncols):\n",
    "                # Get the count for the cell\n",
    "                c = cm[j, k]\n",
    "                # Get the percentage for the cell\n",
    "                p = cm_perc[j, k]\n",
    "                if j == k:\n",
    "                    s = cm_sum[j]\n",
    "                    # Convert the proportion, count, and row sum to a string with pretty formatting\n",
    "                    annot[j, k] = '%d\\n%.1f%%' % (c, p)\n",
    "                elif c == 0:\n",
    "                    annot[j, k] = '%d' % (c)\n",
    "                else:\n",
    "                    annot[j, k] = '%d\\n%.1f%%' % (c, p)\n",
    "        # Convert the array to a dataframe\n",
    "        cm = pd.DataFrame(cm, index=labels, columns=labels)\n",
    "        cm.index.name = 'Verdadeiro'\n",
    "        cm.columns.name = 'Predição'\n",
    "        # Plot the data using the Pandas dataframe\n",
    "        heatmap = sns.heatmap(cm, annot=annot, fmt='', ax=axes[i], cmap='rocket_r', annot_kws={\"size\": 30})\n",
    "        heatmap.set_xticklabels(heatmap.get_xticklabels(), fontsize=12)\n",
    "        heatmap.set_yticklabels(heatmap.get_yticklabels(), fontsize=12)\n",
    "        axes[i].set_xlabel('Predição', fontsize=15)\n",
    "        axes[i].set_ylabel('Verdadeiro', fontsize=15)\n",
    "        \n",
    "        axes[i].set_title(titulos[i])\n",
    "        \n",
    "        if i != num_plots - 1:\n",
    "            axes[i].collections[0].colorbar.remove()\n",
    "\n",
    "    axes[num_plots - 1].collections[0].colorbar.ax.tick_params(labelsize=12)\n",
    "\n",
    "    plt.tight_layout()\n",
    "    plt.show()"
   ]
  },
  {
   "cell_type": "code",
   "execution_count": 63,
   "metadata": {},
   "outputs": [
    {
     "data": {
      "image/png": "[encoded data removed]",
      "text/plain": [
       "<Figure size 3000x1000 with 4 Axes>"
      ]
     },
     "metadata": {},
     "output_type": "display_data"
    }
   ],
   "source": [
    "def confusion_matrix_plot(model, X, y, scaler = scaler, prob = [0.3,0.5,0.7]):\n",
    "    \n",
    "    # Apply the same transformation to the test data\n",
    "    X_test = scaler.transform(X)\n",
    "\n",
    "    # Generate a classification report\n",
    "    y_texto = np.where(y == 1, 'infartou', 'não infartou')\n",
    "\n",
    "    y_pred_list = []\n",
    "    y_true_list = []\n",
    "    titulos_list = []\n",
    "\n",
    "    for prob in prob:\n",
    "    # Make predictions on the test data\n",
    "        y_pred = model.predict_proba(X_test)[:,1]\n",
    "        y_pred_texto = np.where(y_pred > prob, 'infartou', 'não infartou')\n",
    "\n",
    "        y_true_list.append(y_texto)\n",
    "        y_pred_list.append(y_pred_texto)\n",
    "        titulos_list.append(f'Probabilidade: {prob}')\n",
    "    \n",
    "    cm_analysis(y_true_list,y_pred_list, labels = ['infartou', 'não infartou'], titulos=titulos_list)\n",
    "    \n",
    "confusion_matrix_plot(melhor_modelo, X_test, y_test, scaler, prob = [0.3,0.5,0.7])\n"
   ]
  }
 ],
 "metadata": {
  "kernelspec": {
   "display_name": "Python 3",
   "language": "python",
   "name": "python3"
  },
  "language_info": {
   "codemirror_mode": {
    "name": "ipython",
    "version": 3
   },
   "file_extension": ".py",
   "mimetype": "text/x-python",
   "name": "python",
   "nbconvert_exporter": "python",
   "pygments_lexer": "ipython3",
   "version": "3.10.9"
  },
  "orig_nbformat": 4
 },
 "nbformat": 4,
 "nbformat_minor": 2
}
